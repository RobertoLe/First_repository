{
 "cells": [
  {
   "cell_type": "code",
   "execution_count": 83,
   "id": "6d04c082",
   "metadata": {},
   "outputs": [],
   "source": [
    "# numpy, pandas, scipy, math, matplotlib\n",
    "import numpy as np\n",
    "import pandas as pd\n",
    "import scipy\n",
    "from math import sqrt\n",
    "import matplotlib.pyplot as plt\n",
    "\n",
    "# estimators\n",
    "from sklearn.ensemble import RandomForestRegressor\n",
    "from sklearn.linear_model import LinearRegression\n",
    "from sklearn.svm import SVR\n",
    "from sklearn import linear_model\n",
    "\n",
    "# model metrics\n",
    "from sklearn.metrics import mean_squared_error\n",
    "from sklearn.metrics import r2_score\n",
    "from sklearn.model_selection import cross_val_score\n",
    "\n",
    "# cross validation\n",
    "from sklearn.model_selection import train_test_split"
   ]
  },
  {
   "cell_type": "code",
   "execution_count": 84,
   "id": "5257816f",
   "metadata": {},
   "outputs": [],
   "source": [
    "data = pd.read_csv('Data/03_processed_default_of_credit_card_clients.csv')"
   ]
  },
  {
   "cell_type": "code",
   "execution_count": 85,
   "id": "97ef78ee",
   "metadata": {},
   "outputs": [
    {
     "data": {
      "text/html": [
       "<div>\n",
       "<style scoped>\n",
       "    .dataframe tbody tr th:only-of-type {\n",
       "        vertical-align: middle;\n",
       "    }\n",
       "\n",
       "    .dataframe tbody tr th {\n",
       "        vertical-align: top;\n",
       "    }\n",
       "\n",
       "    .dataframe thead th {\n",
       "        text-align: right;\n",
       "    }\n",
       "</style>\n",
       "<table border=\"1\" class=\"dataframe\">\n",
       "  <thead>\n",
       "    <tr style=\"text-align: right;\">\n",
       "      <th></th>\n",
       "      <th>id</th>\n",
       "      <th>limit_bal</th>\n",
       "      <th>age</th>\n",
       "      <th>pay_0</th>\n",
       "      <th>pay_2</th>\n",
       "      <th>pay_3</th>\n",
       "      <th>pay_4</th>\n",
       "      <th>pay_5</th>\n",
       "      <th>pay_6</th>\n",
       "      <th>bill_amt1</th>\n",
       "      <th>...</th>\n",
       "      <th>education_graduate school</th>\n",
       "      <th>education_high school</th>\n",
       "      <th>education_other</th>\n",
       "      <th>education_university</th>\n",
       "      <th>marriage_divorce</th>\n",
       "      <th>marriage_married</th>\n",
       "      <th>marriage_others</th>\n",
       "      <th>marriage_single</th>\n",
       "      <th>default_payment_next_month_default</th>\n",
       "      <th>default_payment_next_month_not default</th>\n",
       "    </tr>\n",
       "  </thead>\n",
       "  <tbody>\n",
       "    <tr>\n",
       "      <th>0</th>\n",
       "      <td>1</td>\n",
       "      <td>20000</td>\n",
       "      <td>24</td>\n",
       "      <td>2</td>\n",
       "      <td>2</td>\n",
       "      <td>-1</td>\n",
       "      <td>-1</td>\n",
       "      <td>-2</td>\n",
       "      <td>-2</td>\n",
       "      <td>3913</td>\n",
       "      <td>...</td>\n",
       "      <td>0</td>\n",
       "      <td>0</td>\n",
       "      <td>0</td>\n",
       "      <td>1</td>\n",
       "      <td>0</td>\n",
       "      <td>1</td>\n",
       "      <td>0</td>\n",
       "      <td>0</td>\n",
       "      <td>1</td>\n",
       "      <td>0</td>\n",
       "    </tr>\n",
       "    <tr>\n",
       "      <th>1</th>\n",
       "      <td>2</td>\n",
       "      <td>120000</td>\n",
       "      <td>26</td>\n",
       "      <td>-1</td>\n",
       "      <td>2</td>\n",
       "      <td>0</td>\n",
       "      <td>0</td>\n",
       "      <td>0</td>\n",
       "      <td>2</td>\n",
       "      <td>2682</td>\n",
       "      <td>...</td>\n",
       "      <td>0</td>\n",
       "      <td>0</td>\n",
       "      <td>0</td>\n",
       "      <td>1</td>\n",
       "      <td>0</td>\n",
       "      <td>0</td>\n",
       "      <td>0</td>\n",
       "      <td>1</td>\n",
       "      <td>1</td>\n",
       "      <td>0</td>\n",
       "    </tr>\n",
       "    <tr>\n",
       "      <th>2</th>\n",
       "      <td>3</td>\n",
       "      <td>90000</td>\n",
       "      <td>34</td>\n",
       "      <td>0</td>\n",
       "      <td>0</td>\n",
       "      <td>0</td>\n",
       "      <td>0</td>\n",
       "      <td>0</td>\n",
       "      <td>0</td>\n",
       "      <td>29239</td>\n",
       "      <td>...</td>\n",
       "      <td>0</td>\n",
       "      <td>0</td>\n",
       "      <td>0</td>\n",
       "      <td>1</td>\n",
       "      <td>0</td>\n",
       "      <td>0</td>\n",
       "      <td>0</td>\n",
       "      <td>1</td>\n",
       "      <td>0</td>\n",
       "      <td>1</td>\n",
       "    </tr>\n",
       "    <tr>\n",
       "      <th>3</th>\n",
       "      <td>4</td>\n",
       "      <td>50000</td>\n",
       "      <td>37</td>\n",
       "      <td>0</td>\n",
       "      <td>0</td>\n",
       "      <td>0</td>\n",
       "      <td>0</td>\n",
       "      <td>0</td>\n",
       "      <td>0</td>\n",
       "      <td>46990</td>\n",
       "      <td>...</td>\n",
       "      <td>0</td>\n",
       "      <td>0</td>\n",
       "      <td>0</td>\n",
       "      <td>1</td>\n",
       "      <td>0</td>\n",
       "      <td>1</td>\n",
       "      <td>0</td>\n",
       "      <td>0</td>\n",
       "      <td>0</td>\n",
       "      <td>1</td>\n",
       "    </tr>\n",
       "    <tr>\n",
       "      <th>4</th>\n",
       "      <td>5</td>\n",
       "      <td>50000</td>\n",
       "      <td>57</td>\n",
       "      <td>-1</td>\n",
       "      <td>0</td>\n",
       "      <td>-1</td>\n",
       "      <td>0</td>\n",
       "      <td>0</td>\n",
       "      <td>0</td>\n",
       "      <td>8617</td>\n",
       "      <td>...</td>\n",
       "      <td>0</td>\n",
       "      <td>0</td>\n",
       "      <td>0</td>\n",
       "      <td>1</td>\n",
       "      <td>0</td>\n",
       "      <td>1</td>\n",
       "      <td>0</td>\n",
       "      <td>0</td>\n",
       "      <td>0</td>\n",
       "      <td>1</td>\n",
       "    </tr>\n",
       "  </tbody>\n",
       "</table>\n",
       "<p>5 rows × 33 columns</p>\n",
       "</div>"
      ],
      "text/plain": [
       "   id  limit_bal  age  pay_0  pay_2  pay_3  pay_4  pay_5  pay_6  bill_amt1  \\\n",
       "0   1      20000   24      2      2     -1     -1     -2     -2       3913   \n",
       "1   2     120000   26     -1      2      0      0      0      2       2682   \n",
       "2   3      90000   34      0      0      0      0      0      0      29239   \n",
       "3   4      50000   37      0      0      0      0      0      0      46990   \n",
       "4   5      50000   57     -1      0     -1      0      0      0       8617   \n",
       "\n",
       "   ...  education_graduate school  education_high school  education_other  \\\n",
       "0  ...                          0                      0                0   \n",
       "1  ...                          0                      0                0   \n",
       "2  ...                          0                      0                0   \n",
       "3  ...                          0                      0                0   \n",
       "4  ...                          0                      0                0   \n",
       "\n",
       "   education_university  marriage_divorce  marriage_married  marriage_others  \\\n",
       "0                     1                 0                 1                0   \n",
       "1                     1                 0                 0                0   \n",
       "2                     1                 0                 0                0   \n",
       "3                     1                 0                 1                0   \n",
       "4                     1                 0                 1                0   \n",
       "\n",
       "   marriage_single  default_payment_next_month_default  \\\n",
       "0                0                                   1   \n",
       "1                1                                   1   \n",
       "2                1                                   0   \n",
       "3                0                                   0   \n",
       "4                0                                   0   \n",
       "\n",
       "   default_payment_next_month_not default  \n",
       "0                                       0  \n",
       "1                                       0  \n",
       "2                                       1  \n",
       "3                                       1  \n",
       "4                                       1  \n",
       "\n",
       "[5 rows x 33 columns]"
      ]
     },
     "execution_count": 85,
     "metadata": {},
     "output_type": "execute_result"
    }
   ],
   "source": [
    "data.head()"
   ]
  },
  {
   "cell_type": "code",
   "execution_count": 86,
   "id": "7f7e9e44",
   "metadata": {},
   "outputs": [],
   "source": [
    "data.drop(['id'], axis = 1, inplace = True) # drop the id because it is irrelevant"
   ]
  },
  {
   "cell_type": "code",
   "execution_count": 87,
   "id": "a5f83c84",
   "metadata": {},
   "outputs": [
    {
     "data": {
      "text/html": [
       "<div>\n",
       "<style scoped>\n",
       "    .dataframe tbody tr th:only-of-type {\n",
       "        vertical-align: middle;\n",
       "    }\n",
       "\n",
       "    .dataframe tbody tr th {\n",
       "        vertical-align: top;\n",
       "    }\n",
       "\n",
       "    .dataframe thead th {\n",
       "        text-align: right;\n",
       "    }\n",
       "</style>\n",
       "<table border=\"1\" class=\"dataframe\">\n",
       "  <thead>\n",
       "    <tr style=\"text-align: right;\">\n",
       "      <th></th>\n",
       "      <th>limit_bal</th>\n",
       "      <th>age</th>\n",
       "      <th>pay_0</th>\n",
       "      <th>pay_2</th>\n",
       "      <th>pay_3</th>\n",
       "      <th>pay_4</th>\n",
       "      <th>pay_5</th>\n",
       "      <th>pay_6</th>\n",
       "      <th>bill_amt1</th>\n",
       "      <th>bill_amt2</th>\n",
       "      <th>...</th>\n",
       "      <th>education_graduate school</th>\n",
       "      <th>education_high school</th>\n",
       "      <th>education_other</th>\n",
       "      <th>education_university</th>\n",
       "      <th>marriage_divorce</th>\n",
       "      <th>marriage_married</th>\n",
       "      <th>marriage_others</th>\n",
       "      <th>marriage_single</th>\n",
       "      <th>default_payment_next_month_default</th>\n",
       "      <th>default_payment_next_month_not default</th>\n",
       "    </tr>\n",
       "  </thead>\n",
       "  <tbody>\n",
       "    <tr>\n",
       "      <th>0</th>\n",
       "      <td>20000</td>\n",
       "      <td>24</td>\n",
       "      <td>2</td>\n",
       "      <td>2</td>\n",
       "      <td>-1</td>\n",
       "      <td>-1</td>\n",
       "      <td>-2</td>\n",
       "      <td>-2</td>\n",
       "      <td>3913</td>\n",
       "      <td>3102</td>\n",
       "      <td>...</td>\n",
       "      <td>0</td>\n",
       "      <td>0</td>\n",
       "      <td>0</td>\n",
       "      <td>1</td>\n",
       "      <td>0</td>\n",
       "      <td>1</td>\n",
       "      <td>0</td>\n",
       "      <td>0</td>\n",
       "      <td>1</td>\n",
       "      <td>0</td>\n",
       "    </tr>\n",
       "    <tr>\n",
       "      <th>1</th>\n",
       "      <td>120000</td>\n",
       "      <td>26</td>\n",
       "      <td>-1</td>\n",
       "      <td>2</td>\n",
       "      <td>0</td>\n",
       "      <td>0</td>\n",
       "      <td>0</td>\n",
       "      <td>2</td>\n",
       "      <td>2682</td>\n",
       "      <td>1725</td>\n",
       "      <td>...</td>\n",
       "      <td>0</td>\n",
       "      <td>0</td>\n",
       "      <td>0</td>\n",
       "      <td>1</td>\n",
       "      <td>0</td>\n",
       "      <td>0</td>\n",
       "      <td>0</td>\n",
       "      <td>1</td>\n",
       "      <td>1</td>\n",
       "      <td>0</td>\n",
       "    </tr>\n",
       "    <tr>\n",
       "      <th>2</th>\n",
       "      <td>90000</td>\n",
       "      <td>34</td>\n",
       "      <td>0</td>\n",
       "      <td>0</td>\n",
       "      <td>0</td>\n",
       "      <td>0</td>\n",
       "      <td>0</td>\n",
       "      <td>0</td>\n",
       "      <td>29239</td>\n",
       "      <td>14027</td>\n",
       "      <td>...</td>\n",
       "      <td>0</td>\n",
       "      <td>0</td>\n",
       "      <td>0</td>\n",
       "      <td>1</td>\n",
       "      <td>0</td>\n",
       "      <td>0</td>\n",
       "      <td>0</td>\n",
       "      <td>1</td>\n",
       "      <td>0</td>\n",
       "      <td>1</td>\n",
       "    </tr>\n",
       "    <tr>\n",
       "      <th>3</th>\n",
       "      <td>50000</td>\n",
       "      <td>37</td>\n",
       "      <td>0</td>\n",
       "      <td>0</td>\n",
       "      <td>0</td>\n",
       "      <td>0</td>\n",
       "      <td>0</td>\n",
       "      <td>0</td>\n",
       "      <td>46990</td>\n",
       "      <td>48233</td>\n",
       "      <td>...</td>\n",
       "      <td>0</td>\n",
       "      <td>0</td>\n",
       "      <td>0</td>\n",
       "      <td>1</td>\n",
       "      <td>0</td>\n",
       "      <td>1</td>\n",
       "      <td>0</td>\n",
       "      <td>0</td>\n",
       "      <td>0</td>\n",
       "      <td>1</td>\n",
       "    </tr>\n",
       "    <tr>\n",
       "      <th>4</th>\n",
       "      <td>50000</td>\n",
       "      <td>57</td>\n",
       "      <td>-1</td>\n",
       "      <td>0</td>\n",
       "      <td>-1</td>\n",
       "      <td>0</td>\n",
       "      <td>0</td>\n",
       "      <td>0</td>\n",
       "      <td>8617</td>\n",
       "      <td>5670</td>\n",
       "      <td>...</td>\n",
       "      <td>0</td>\n",
       "      <td>0</td>\n",
       "      <td>0</td>\n",
       "      <td>1</td>\n",
       "      <td>0</td>\n",
       "      <td>1</td>\n",
       "      <td>0</td>\n",
       "      <td>0</td>\n",
       "      <td>0</td>\n",
       "      <td>1</td>\n",
       "    </tr>\n",
       "    <tr>\n",
       "      <th>...</th>\n",
       "      <td>...</td>\n",
       "      <td>...</td>\n",
       "      <td>...</td>\n",
       "      <td>...</td>\n",
       "      <td>...</td>\n",
       "      <td>...</td>\n",
       "      <td>...</td>\n",
       "      <td>...</td>\n",
       "      <td>...</td>\n",
       "      <td>...</td>\n",
       "      <td>...</td>\n",
       "      <td>...</td>\n",
       "      <td>...</td>\n",
       "      <td>...</td>\n",
       "      <td>...</td>\n",
       "      <td>...</td>\n",
       "      <td>...</td>\n",
       "      <td>...</td>\n",
       "      <td>...</td>\n",
       "      <td>...</td>\n",
       "      <td>...</td>\n",
       "    </tr>\n",
       "    <tr>\n",
       "      <th>29995</th>\n",
       "      <td>220000</td>\n",
       "      <td>39</td>\n",
       "      <td>0</td>\n",
       "      <td>0</td>\n",
       "      <td>0</td>\n",
       "      <td>0</td>\n",
       "      <td>0</td>\n",
       "      <td>0</td>\n",
       "      <td>188948</td>\n",
       "      <td>192815</td>\n",
       "      <td>...</td>\n",
       "      <td>0</td>\n",
       "      <td>1</td>\n",
       "      <td>0</td>\n",
       "      <td>0</td>\n",
       "      <td>0</td>\n",
       "      <td>1</td>\n",
       "      <td>0</td>\n",
       "      <td>0</td>\n",
       "      <td>0</td>\n",
       "      <td>1</td>\n",
       "    </tr>\n",
       "    <tr>\n",
       "      <th>29996</th>\n",
       "      <td>150000</td>\n",
       "      <td>43</td>\n",
       "      <td>-1</td>\n",
       "      <td>-1</td>\n",
       "      <td>-1</td>\n",
       "      <td>-1</td>\n",
       "      <td>0</td>\n",
       "      <td>0</td>\n",
       "      <td>1683</td>\n",
       "      <td>1828</td>\n",
       "      <td>...</td>\n",
       "      <td>0</td>\n",
       "      <td>1</td>\n",
       "      <td>0</td>\n",
       "      <td>0</td>\n",
       "      <td>0</td>\n",
       "      <td>0</td>\n",
       "      <td>0</td>\n",
       "      <td>1</td>\n",
       "      <td>0</td>\n",
       "      <td>1</td>\n",
       "    </tr>\n",
       "    <tr>\n",
       "      <th>29997</th>\n",
       "      <td>30000</td>\n",
       "      <td>37</td>\n",
       "      <td>4</td>\n",
       "      <td>3</td>\n",
       "      <td>2</td>\n",
       "      <td>-1</td>\n",
       "      <td>0</td>\n",
       "      <td>0</td>\n",
       "      <td>3565</td>\n",
       "      <td>3356</td>\n",
       "      <td>...</td>\n",
       "      <td>0</td>\n",
       "      <td>0</td>\n",
       "      <td>0</td>\n",
       "      <td>1</td>\n",
       "      <td>0</td>\n",
       "      <td>0</td>\n",
       "      <td>0</td>\n",
       "      <td>1</td>\n",
       "      <td>1</td>\n",
       "      <td>0</td>\n",
       "    </tr>\n",
       "    <tr>\n",
       "      <th>29998</th>\n",
       "      <td>80000</td>\n",
       "      <td>41</td>\n",
       "      <td>1</td>\n",
       "      <td>-1</td>\n",
       "      <td>0</td>\n",
       "      <td>0</td>\n",
       "      <td>0</td>\n",
       "      <td>-1</td>\n",
       "      <td>-1645</td>\n",
       "      <td>78379</td>\n",
       "      <td>...</td>\n",
       "      <td>0</td>\n",
       "      <td>1</td>\n",
       "      <td>0</td>\n",
       "      <td>0</td>\n",
       "      <td>0</td>\n",
       "      <td>1</td>\n",
       "      <td>0</td>\n",
       "      <td>0</td>\n",
       "      <td>1</td>\n",
       "      <td>0</td>\n",
       "    </tr>\n",
       "    <tr>\n",
       "      <th>29999</th>\n",
       "      <td>50000</td>\n",
       "      <td>46</td>\n",
       "      <td>0</td>\n",
       "      <td>0</td>\n",
       "      <td>0</td>\n",
       "      <td>0</td>\n",
       "      <td>0</td>\n",
       "      <td>0</td>\n",
       "      <td>47929</td>\n",
       "      <td>48905</td>\n",
       "      <td>...</td>\n",
       "      <td>0</td>\n",
       "      <td>0</td>\n",
       "      <td>0</td>\n",
       "      <td>1</td>\n",
       "      <td>0</td>\n",
       "      <td>1</td>\n",
       "      <td>0</td>\n",
       "      <td>0</td>\n",
       "      <td>1</td>\n",
       "      <td>0</td>\n",
       "    </tr>\n",
       "  </tbody>\n",
       "</table>\n",
       "<p>30000 rows × 32 columns</p>\n",
       "</div>"
      ],
      "text/plain": [
       "       limit_bal  age  pay_0  pay_2  pay_3  pay_4  pay_5  pay_6  bill_amt1  \\\n",
       "0          20000   24      2      2     -1     -1     -2     -2       3913   \n",
       "1         120000   26     -1      2      0      0      0      2       2682   \n",
       "2          90000   34      0      0      0      0      0      0      29239   \n",
       "3          50000   37      0      0      0      0      0      0      46990   \n",
       "4          50000   57     -1      0     -1      0      0      0       8617   \n",
       "...          ...  ...    ...    ...    ...    ...    ...    ...        ...   \n",
       "29995     220000   39      0      0      0      0      0      0     188948   \n",
       "29996     150000   43     -1     -1     -1     -1      0      0       1683   \n",
       "29997      30000   37      4      3      2     -1      0      0       3565   \n",
       "29998      80000   41      1     -1      0      0      0     -1      -1645   \n",
       "29999      50000   46      0      0      0      0      0      0      47929   \n",
       "\n",
       "       bill_amt2  ...  education_graduate school  education_high school  \\\n",
       "0           3102  ...                          0                      0   \n",
       "1           1725  ...                          0                      0   \n",
       "2          14027  ...                          0                      0   \n",
       "3          48233  ...                          0                      0   \n",
       "4           5670  ...                          0                      0   \n",
       "...          ...  ...                        ...                    ...   \n",
       "29995     192815  ...                          0                      1   \n",
       "29996       1828  ...                          0                      1   \n",
       "29997       3356  ...                          0                      0   \n",
       "29998      78379  ...                          0                      1   \n",
       "29999      48905  ...                          0                      0   \n",
       "\n",
       "       education_other  education_university  marriage_divorce  \\\n",
       "0                    0                     1                 0   \n",
       "1                    0                     1                 0   \n",
       "2                    0                     1                 0   \n",
       "3                    0                     1                 0   \n",
       "4                    0                     1                 0   \n",
       "...                ...                   ...               ...   \n",
       "29995                0                     0                 0   \n",
       "29996                0                     0                 0   \n",
       "29997                0                     1                 0   \n",
       "29998                0                     0                 0   \n",
       "29999                0                     1                 0   \n",
       "\n",
       "       marriage_married  marriage_others  marriage_single  \\\n",
       "0                     1                0                0   \n",
       "1                     0                0                1   \n",
       "2                     0                0                1   \n",
       "3                     1                0                0   \n",
       "4                     1                0                0   \n",
       "...                 ...              ...              ...   \n",
       "29995                 1                0                0   \n",
       "29996                 0                0                1   \n",
       "29997                 0                0                1   \n",
       "29998                 1                0                0   \n",
       "29999                 1                0                0   \n",
       "\n",
       "       default_payment_next_month_default  \\\n",
       "0                                       1   \n",
       "1                                       1   \n",
       "2                                       0   \n",
       "3                                       0   \n",
       "4                                       0   \n",
       "...                                   ...   \n",
       "29995                                   0   \n",
       "29996                                   0   \n",
       "29997                                   1   \n",
       "29998                                   1   \n",
       "29999                                   1   \n",
       "\n",
       "       default_payment_next_month_not default  \n",
       "0                                           0  \n",
       "1                                           0  \n",
       "2                                           1  \n",
       "3                                           1  \n",
       "4                                           1  \n",
       "...                                       ...  \n",
       "29995                                       1  \n",
       "29996                                       1  \n",
       "29997                                       0  \n",
       "29998                                       0  \n",
       "29999                                       0  \n",
       "\n",
       "[30000 rows x 32 columns]"
      ]
     },
     "execution_count": 87,
     "metadata": {},
     "output_type": "execute_result"
    }
   ],
   "source": [
    "data"
   ]
  },
  {
   "cell_type": "code",
   "execution_count": 88,
   "id": "7d06f0cb",
   "metadata": {},
   "outputs": [
    {
     "name": "stdout",
     "output_type": "stream",
     "text": [
      "Summary of feature sample\n"
     ]
    },
    {
     "data": {
      "text/html": [
       "<div>\n",
       "<style scoped>\n",
       "    .dataframe tbody tr th:only-of-type {\n",
       "        vertical-align: middle;\n",
       "    }\n",
       "\n",
       "    .dataframe tbody tr th {\n",
       "        vertical-align: top;\n",
       "    }\n",
       "\n",
       "    .dataframe thead th {\n",
       "        text-align: right;\n",
       "    }\n",
       "</style>\n",
       "<table border=\"1\" class=\"dataframe\">\n",
       "  <thead>\n",
       "    <tr style=\"text-align: right;\">\n",
       "      <th></th>\n",
       "      <th>limit_bal</th>\n",
       "      <th>age</th>\n",
       "      <th>pay_0</th>\n",
       "      <th>pay_2</th>\n",
       "      <th>pay_3</th>\n",
       "      <th>pay_4</th>\n",
       "      <th>pay_5</th>\n",
       "      <th>pay_6</th>\n",
       "      <th>bill_amt1</th>\n",
       "      <th>bill_amt2</th>\n",
       "      <th>...</th>\n",
       "      <th>sex_female</th>\n",
       "      <th>sex_male</th>\n",
       "      <th>education_graduate school</th>\n",
       "      <th>education_high school</th>\n",
       "      <th>education_other</th>\n",
       "      <th>education_university</th>\n",
       "      <th>marriage_divorce</th>\n",
       "      <th>marriage_married</th>\n",
       "      <th>marriage_others</th>\n",
       "      <th>marriage_single</th>\n",
       "    </tr>\n",
       "  </thead>\n",
       "  <tbody>\n",
       "    <tr>\n",
       "      <th>0</th>\n",
       "      <td>20000</td>\n",
       "      <td>24</td>\n",
       "      <td>2</td>\n",
       "      <td>2</td>\n",
       "      <td>-1</td>\n",
       "      <td>-1</td>\n",
       "      <td>-2</td>\n",
       "      <td>-2</td>\n",
       "      <td>3913</td>\n",
       "      <td>3102</td>\n",
       "      <td>...</td>\n",
       "      <td>1</td>\n",
       "      <td>0</td>\n",
       "      <td>0</td>\n",
       "      <td>0</td>\n",
       "      <td>0</td>\n",
       "      <td>1</td>\n",
       "      <td>0</td>\n",
       "      <td>1</td>\n",
       "      <td>0</td>\n",
       "      <td>0</td>\n",
       "    </tr>\n",
       "    <tr>\n",
       "      <th>1</th>\n",
       "      <td>120000</td>\n",
       "      <td>26</td>\n",
       "      <td>-1</td>\n",
       "      <td>2</td>\n",
       "      <td>0</td>\n",
       "      <td>0</td>\n",
       "      <td>0</td>\n",
       "      <td>2</td>\n",
       "      <td>2682</td>\n",
       "      <td>1725</td>\n",
       "      <td>...</td>\n",
       "      <td>1</td>\n",
       "      <td>0</td>\n",
       "      <td>0</td>\n",
       "      <td>0</td>\n",
       "      <td>0</td>\n",
       "      <td>1</td>\n",
       "      <td>0</td>\n",
       "      <td>0</td>\n",
       "      <td>0</td>\n",
       "      <td>1</td>\n",
       "    </tr>\n",
       "    <tr>\n",
       "      <th>2</th>\n",
       "      <td>90000</td>\n",
       "      <td>34</td>\n",
       "      <td>0</td>\n",
       "      <td>0</td>\n",
       "      <td>0</td>\n",
       "      <td>0</td>\n",
       "      <td>0</td>\n",
       "      <td>0</td>\n",
       "      <td>29239</td>\n",
       "      <td>14027</td>\n",
       "      <td>...</td>\n",
       "      <td>1</td>\n",
       "      <td>0</td>\n",
       "      <td>0</td>\n",
       "      <td>0</td>\n",
       "      <td>0</td>\n",
       "      <td>1</td>\n",
       "      <td>0</td>\n",
       "      <td>0</td>\n",
       "      <td>0</td>\n",
       "      <td>1</td>\n",
       "    </tr>\n",
       "    <tr>\n",
       "      <th>3</th>\n",
       "      <td>50000</td>\n",
       "      <td>37</td>\n",
       "      <td>0</td>\n",
       "      <td>0</td>\n",
       "      <td>0</td>\n",
       "      <td>0</td>\n",
       "      <td>0</td>\n",
       "      <td>0</td>\n",
       "      <td>46990</td>\n",
       "      <td>48233</td>\n",
       "      <td>...</td>\n",
       "      <td>1</td>\n",
       "      <td>0</td>\n",
       "      <td>0</td>\n",
       "      <td>0</td>\n",
       "      <td>0</td>\n",
       "      <td>1</td>\n",
       "      <td>0</td>\n",
       "      <td>1</td>\n",
       "      <td>0</td>\n",
       "      <td>0</td>\n",
       "    </tr>\n",
       "    <tr>\n",
       "      <th>4</th>\n",
       "      <td>50000</td>\n",
       "      <td>57</td>\n",
       "      <td>-1</td>\n",
       "      <td>0</td>\n",
       "      <td>-1</td>\n",
       "      <td>0</td>\n",
       "      <td>0</td>\n",
       "      <td>0</td>\n",
       "      <td>8617</td>\n",
       "      <td>5670</td>\n",
       "      <td>...</td>\n",
       "      <td>0</td>\n",
       "      <td>1</td>\n",
       "      <td>0</td>\n",
       "      <td>0</td>\n",
       "      <td>0</td>\n",
       "      <td>1</td>\n",
       "      <td>0</td>\n",
       "      <td>1</td>\n",
       "      <td>0</td>\n",
       "      <td>0</td>\n",
       "    </tr>\n",
       "  </tbody>\n",
       "</table>\n",
       "<p>5 rows × 30 columns</p>\n",
       "</div>"
      ],
      "text/plain": [
       "   limit_bal  age  pay_0  pay_2  pay_3  pay_4  pay_5  pay_6  bill_amt1  \\\n",
       "0      20000   24      2      2     -1     -1     -2     -2       3913   \n",
       "1     120000   26     -1      2      0      0      0      2       2682   \n",
       "2      90000   34      0      0      0      0      0      0      29239   \n",
       "3      50000   37      0      0      0      0      0      0      46990   \n",
       "4      50000   57     -1      0     -1      0      0      0       8617   \n",
       "\n",
       "   bill_amt2  ...  sex_female  sex_male  education_graduate school  \\\n",
       "0       3102  ...           1         0                          0   \n",
       "1       1725  ...           1         0                          0   \n",
       "2      14027  ...           1         0                          0   \n",
       "3      48233  ...           1         0                          0   \n",
       "4       5670  ...           0         1                          0   \n",
       "\n",
       "   education_high school  education_other  education_university  \\\n",
       "0                      0                0                     1   \n",
       "1                      0                0                     1   \n",
       "2                      0                0                     1   \n",
       "3                      0                0                     1   \n",
       "4                      0                0                     1   \n",
       "\n",
       "   marriage_divorce  marriage_married  marriage_others  marriage_single  \n",
       "0                 0                 1                0                0  \n",
       "1                 0                 0                0                1  \n",
       "2                 0                 0                0                1  \n",
       "3                 0                 1                0                0  \n",
       "4                 0                 1                0                0  \n",
       "\n",
       "[5 rows x 30 columns]"
      ]
     },
     "execution_count": 88,
     "metadata": {},
     "output_type": "execute_result"
    }
   ],
   "source": [
    "#features\n",
    "X = data.iloc[:, 0:30]\n",
    "print('Summary of feature sample')\n",
    "X.head()"
   ]
  },
  {
   "cell_type": "code",
   "execution_count": 89,
   "id": "12ce88b2",
   "metadata": {},
   "outputs": [
    {
     "data": {
      "text/plain": [
       "(30000, 30)"
      ]
     },
     "execution_count": 89,
     "metadata": {},
     "output_type": "execute_result"
    }
   ],
   "source": [
    "X.shape"
   ]
  },
  {
   "cell_type": "code",
   "execution_count": 90,
   "id": "e883d67a",
   "metadata": {},
   "outputs": [],
   "source": [
    "# The dependent variable is that clients defaulted the next month"
   ]
  },
  {
   "cell_type": "code",
   "execution_count": 91,
   "id": "2b0c108e",
   "metadata": {},
   "outputs": [],
   "source": [
    "#dependent variable\n",
    "y = data['default_payment_next_month_default']"
   ]
  },
  {
   "cell_type": "code",
   "execution_count": 92,
   "id": "a1e9f6d6",
   "metadata": {},
   "outputs": [
    {
     "data": {
      "text/plain": [
       "(30000,)"
      ]
     },
     "execution_count": 92,
     "metadata": {},
     "output_type": "execute_result"
    }
   ],
   "source": [
    "y.shape"
   ]
  },
  {
   "cell_type": "code",
   "execution_count": 93,
   "id": "713b76da",
   "metadata": {},
   "outputs": [
    {
     "name": "stdout",
     "output_type": "stream",
     "text": [
      "0        1\n",
      "1        1\n",
      "2        0\n",
      "3        0\n",
      "4        0\n",
      "        ..\n",
      "29995    0\n",
      "29996    0\n",
      "29997    1\n",
      "29998    1\n",
      "29999    1\n",
      "Name: default_payment_next_month_default, Length: 30000, dtype: int64\n"
     ]
    }
   ],
   "source": [
    "print(y)"
   ]
  },
  {
   "cell_type": "code",
   "execution_count": 94,
   "id": "99b4dc6a",
   "metadata": {},
   "outputs": [],
   "source": [
    "model = LinearRegression(fit_intercept = True,n_jobs = 10)"
   ]
  },
  {
   "cell_type": "code",
   "execution_count": 95,
   "id": "7da034ff",
   "metadata": {},
   "outputs": [
    {
     "name": "stdout",
     "output_type": "stream",
     "text": [
      "[0.10554262 0.13376886 0.12426777]\n"
     ]
    }
   ],
   "source": [
    "print(cross_val_score(model, X, y, cv=3)) "
   ]
  },
  {
   "cell_type": "markdown",
   "id": "fe2bfd82",
   "metadata": {},
   "source": [
    "Regression Algorithm"
   ]
  },
  {
   "cell_type": "code",
   "execution_count": 96,
   "id": "6def9c79",
   "metadata": {},
   "outputs": [],
   "source": [
    "algosClass = []"
   ]
  },
  {
   "cell_type": "code",
   "execution_count": 97,
   "id": "a27f2353",
   "metadata": {},
   "outputs": [],
   "source": [
    "algosClass.append(('Random Forest Regressor',RandomForestRegressor()))"
   ]
  },
  {
   "cell_type": "code",
   "execution_count": 98,
   "id": "6d9606af",
   "metadata": {},
   "outputs": [],
   "source": [
    "algosClass.append(('Linear Regression',LinearRegression()))"
   ]
  },
  {
   "cell_type": "code",
   "execution_count": 99,
   "id": "528e9262",
   "metadata": {},
   "outputs": [],
   "source": [
    "algosClass.append(('Support Vector Regression',SVR()))"
   ]
  },
  {
   "cell_type": "code",
   "execution_count": 100,
   "id": "f35ecfc7",
   "metadata": {},
   "outputs": [],
   "source": [
    "#regression\n",
    "results = []\n",
    "names = []\n",
    "    "
   ]
  },
  {
   "cell_type": "code",
   "execution_count": 101,
   "id": "ddd57e3a",
   "metadata": {},
   "outputs": [],
   "source": [
    "for name, model in algosClass:\n",
    "    result = cross_val_score(model, X,y, cv=3, scoring='r2')\n",
    "    names.append(name)\n",
    "    results.append(result)"
   ]
  },
  {
   "cell_type": "code",
   "execution_count": 102,
   "id": "3c78360a",
   "metadata": {},
   "outputs": [
    {
     "name": "stdout",
     "output_type": "stream",
     "text": [
      "Random Forest Regressor 0.18441557031725098\n",
      "Linear Regression 0.12119308107008364\n",
      "Support Vector Regression -0.08509493803027295\n"
     ]
    }
   ],
   "source": [
    "for i in range(len(names)):\n",
    "    print(names[i],results[i].mean())"
   ]
  },
  {
   "cell_type": "markdown",
   "id": "fbcd51f9",
   "metadata": {},
   "source": [
    "Choose the algorithm: Random Forest"
   ]
  },
  {
   "cell_type": "code",
   "execution_count": 103,
   "id": "e1899813",
   "metadata": {},
   "outputs": [],
   "source": [
    "X_train, X_test, y_train, y_test = train_test_split(X, y, test_size=0.25)"
   ]
  },
  {
   "cell_type": "code",
   "execution_count": 104,
   "id": "aa75928b",
   "metadata": {},
   "outputs": [
    {
     "name": "stdout",
     "output_type": "stream",
     "text": [
      "(22500, 30) (22500,)\n"
     ]
    }
   ],
   "source": [
    "print(X_train.shape, y_train.shape)"
   ]
  },
  {
   "cell_type": "code",
   "execution_count": 105,
   "id": "21806d4d",
   "metadata": {},
   "outputs": [
    {
     "name": "stdout",
     "output_type": "stream",
     "text": [
      "(7500, 30) (7500,)\n"
     ]
    }
   ],
   "source": [
    "print(X_test.shape, y_test.shape)"
   ]
  },
  {
   "cell_type": "code",
   "execution_count": 106,
   "id": "c3a7deea",
   "metadata": {},
   "outputs": [],
   "source": [
    "algo = RandomForestRegressor()"
   ]
  },
  {
   "cell_type": "code",
   "execution_count": 107,
   "id": "d9d90ee1",
   "metadata": {},
   "outputs": [],
   "source": [
    "modelRF = algo.fit(X_train,y_train)"
   ]
  },
  {
   "cell_type": "markdown",
   "id": "23629ddd",
   "metadata": {},
   "source": [
    "Predictions"
   ]
  },
  {
   "cell_type": "code",
   "execution_count": 108,
   "id": "f9ba3d12",
   "metadata": {},
   "outputs": [],
   "source": [
    "predictions = modelRF.predict(X_test)"
   ]
  },
  {
   "cell_type": "code",
   "execution_count": 109,
   "id": "93160bff",
   "metadata": {},
   "outputs": [],
   "source": [
    "from math import sqrt"
   ]
  },
  {
   "cell_type": "code",
   "execution_count": 110,
   "id": "1197c9c5",
   "metadata": {},
   "outputs": [],
   "source": [
    "rmse = sqrt(mean_squared_error(y_test, predictions))"
   ]
  },
  {
   "cell_type": "code",
   "execution_count": 111,
   "id": "9997697a",
   "metadata": {},
   "outputs": [],
   "source": [
    "predRsquared = r2_score(y_test,predictions)"
   ]
  },
  {
   "cell_type": "code",
   "execution_count": 113,
   "id": "a173ecee",
   "metadata": {},
   "outputs": [
    {
     "name": "stdout",
     "output_type": "stream",
     "text": [
      "R Squared: 0.182\n",
      "RMSE: 0.378\n"
     ]
    }
   ],
   "source": [
    "#Make Predictions\n",
    "predictions = modelRF.predict(X_test)\n",
    "predRsquared = r2_score(y_test,predictions)\n",
    "rmse = sqrt(mean_squared_error(y_test, predictions))\n",
    "print('R Squared: %.3f' % predRsquared)\n",
    "print('RMSE: %.3f' % rmse)"
   ]
  },
  {
   "cell_type": "code",
   "execution_count": 114,
   "id": "461e465a",
   "metadata": {},
   "outputs": [
    {
     "data": {
      "text/plain": [
       "array([0.06058215, 0.07397792, 0.16628964, 0.03611141, 0.00945823,\n",
       "       0.01050269, 0.00943088, 0.01215653, 0.06219435, 0.04275694,\n",
       "       0.0437222 , 0.0412436 , 0.04078505, 0.04606374, 0.04556871,\n",
       "       0.05039551, 0.05192717, 0.04655926, 0.0447661 , 0.05150392,\n",
       "       0.00640141, 0.00677402, 0.00788267, 0.00713365, 0.001987  ,\n",
       "       0.00832876, 0.00224968, 0.00672056, 0.00041068, 0.00611557])"
      ]
     },
     "execution_count": 114,
     "metadata": {},
     "output_type": "execute_result"
    }
   ],
   "source": [
    "modelRF.feature_importances_"
   ]
  },
  {
   "cell_type": "code",
   "execution_count": 115,
   "id": "e17cb45a",
   "metadata": {},
   "outputs": [],
   "source": [
    "feature_importances_df = pd.DataFrame({'feature': X.columns.values, \\\n",
    "                                       'importance': modelRF.feature_importances_})"
   ]
  },
  {
   "cell_type": "code",
   "execution_count": 116,
   "id": "db4f614d",
   "metadata": {},
   "outputs": [
    {
     "data": {
      "text/html": [
       "<div>\n",
       "<style scoped>\n",
       "    .dataframe tbody tr th:only-of-type {\n",
       "        vertical-align: middle;\n",
       "    }\n",
       "\n",
       "    .dataframe tbody tr th {\n",
       "        vertical-align: top;\n",
       "    }\n",
       "\n",
       "    .dataframe thead th {\n",
       "        text-align: right;\n",
       "    }\n",
       "</style>\n",
       "<table border=\"1\" class=\"dataframe\">\n",
       "  <thead>\n",
       "    <tr style=\"text-align: right;\">\n",
       "      <th></th>\n",
       "      <th>feature</th>\n",
       "      <th>importance</th>\n",
       "    </tr>\n",
       "  </thead>\n",
       "  <tbody>\n",
       "    <tr>\n",
       "      <th>2</th>\n",
       "      <td>pay_0</td>\n",
       "      <td>0.166290</td>\n",
       "    </tr>\n",
       "    <tr>\n",
       "      <th>1</th>\n",
       "      <td>age</td>\n",
       "      <td>0.073978</td>\n",
       "    </tr>\n",
       "    <tr>\n",
       "      <th>8</th>\n",
       "      <td>bill_amt1</td>\n",
       "      <td>0.062194</td>\n",
       "    </tr>\n",
       "    <tr>\n",
       "      <th>0</th>\n",
       "      <td>limit_bal</td>\n",
       "      <td>0.060582</td>\n",
       "    </tr>\n",
       "    <tr>\n",
       "      <th>16</th>\n",
       "      <td>pay_amt3</td>\n",
       "      <td>0.051927</td>\n",
       "    </tr>\n",
       "    <tr>\n",
       "      <th>19</th>\n",
       "      <td>pay_amt6</td>\n",
       "      <td>0.051504</td>\n",
       "    </tr>\n",
       "    <tr>\n",
       "      <th>15</th>\n",
       "      <td>pay_amt2</td>\n",
       "      <td>0.050396</td>\n",
       "    </tr>\n",
       "    <tr>\n",
       "      <th>17</th>\n",
       "      <td>pay_amt4</td>\n",
       "      <td>0.046559</td>\n",
       "    </tr>\n",
       "    <tr>\n",
       "      <th>13</th>\n",
       "      <td>bill_amt6</td>\n",
       "      <td>0.046064</td>\n",
       "    </tr>\n",
       "    <tr>\n",
       "      <th>14</th>\n",
       "      <td>pay_amt1</td>\n",
       "      <td>0.045569</td>\n",
       "    </tr>\n",
       "    <tr>\n",
       "      <th>18</th>\n",
       "      <td>pay_amt5</td>\n",
       "      <td>0.044766</td>\n",
       "    </tr>\n",
       "    <tr>\n",
       "      <th>10</th>\n",
       "      <td>bill_amt3</td>\n",
       "      <td>0.043722</td>\n",
       "    </tr>\n",
       "    <tr>\n",
       "      <th>9</th>\n",
       "      <td>bill_amt2</td>\n",
       "      <td>0.042757</td>\n",
       "    </tr>\n",
       "    <tr>\n",
       "      <th>11</th>\n",
       "      <td>bill_amt4</td>\n",
       "      <td>0.041244</td>\n",
       "    </tr>\n",
       "    <tr>\n",
       "      <th>12</th>\n",
       "      <td>bill_amt5</td>\n",
       "      <td>0.040785</td>\n",
       "    </tr>\n",
       "    <tr>\n",
       "      <th>3</th>\n",
       "      <td>pay_2</td>\n",
       "      <td>0.036111</td>\n",
       "    </tr>\n",
       "    <tr>\n",
       "      <th>7</th>\n",
       "      <td>pay_6</td>\n",
       "      <td>0.012157</td>\n",
       "    </tr>\n",
       "    <tr>\n",
       "      <th>5</th>\n",
       "      <td>pay_4</td>\n",
       "      <td>0.010503</td>\n",
       "    </tr>\n",
       "    <tr>\n",
       "      <th>4</th>\n",
       "      <td>pay_3</td>\n",
       "      <td>0.009458</td>\n",
       "    </tr>\n",
       "    <tr>\n",
       "      <th>6</th>\n",
       "      <td>pay_5</td>\n",
       "      <td>0.009431</td>\n",
       "    </tr>\n",
       "    <tr>\n",
       "      <th>25</th>\n",
       "      <td>education_university</td>\n",
       "      <td>0.008329</td>\n",
       "    </tr>\n",
       "    <tr>\n",
       "      <th>22</th>\n",
       "      <td>education_graduate school</td>\n",
       "      <td>0.007883</td>\n",
       "    </tr>\n",
       "    <tr>\n",
       "      <th>23</th>\n",
       "      <td>education_high school</td>\n",
       "      <td>0.007134</td>\n",
       "    </tr>\n",
       "    <tr>\n",
       "      <th>21</th>\n",
       "      <td>sex_male</td>\n",
       "      <td>0.006774</td>\n",
       "    </tr>\n",
       "    <tr>\n",
       "      <th>27</th>\n",
       "      <td>marriage_married</td>\n",
       "      <td>0.006721</td>\n",
       "    </tr>\n",
       "    <tr>\n",
       "      <th>20</th>\n",
       "      <td>sex_female</td>\n",
       "      <td>0.006401</td>\n",
       "    </tr>\n",
       "    <tr>\n",
       "      <th>29</th>\n",
       "      <td>marriage_single</td>\n",
       "      <td>0.006116</td>\n",
       "    </tr>\n",
       "    <tr>\n",
       "      <th>26</th>\n",
       "      <td>marriage_divorce</td>\n",
       "      <td>0.002250</td>\n",
       "    </tr>\n",
       "    <tr>\n",
       "      <th>24</th>\n",
       "      <td>education_other</td>\n",
       "      <td>0.001987</td>\n",
       "    </tr>\n",
       "    <tr>\n",
       "      <th>28</th>\n",
       "      <td>marriage_others</td>\n",
       "      <td>0.000411</td>\n",
       "    </tr>\n",
       "  </tbody>\n",
       "</table>\n",
       "</div>"
      ],
      "text/plain": [
       "                      feature  importance\n",
       "2                       pay_0    0.166290\n",
       "1                         age    0.073978\n",
       "8                   bill_amt1    0.062194\n",
       "0                   limit_bal    0.060582\n",
       "16                   pay_amt3    0.051927\n",
       "19                   pay_amt6    0.051504\n",
       "15                   pay_amt2    0.050396\n",
       "17                   pay_amt4    0.046559\n",
       "13                  bill_amt6    0.046064\n",
       "14                   pay_amt1    0.045569\n",
       "18                   pay_amt5    0.044766\n",
       "10                  bill_amt3    0.043722\n",
       "9                   bill_amt2    0.042757\n",
       "11                  bill_amt4    0.041244\n",
       "12                  bill_amt5    0.040785\n",
       "3                       pay_2    0.036111\n",
       "7                       pay_6    0.012157\n",
       "5                       pay_4    0.010503\n",
       "4                       pay_3    0.009458\n",
       "6                       pay_5    0.009431\n",
       "25       education_university    0.008329\n",
       "22  education_graduate school    0.007883\n",
       "23      education_high school    0.007134\n",
       "21                   sex_male    0.006774\n",
       "27           marriage_married    0.006721\n",
       "20                 sex_female    0.006401\n",
       "29            marriage_single    0.006116\n",
       "26           marriage_divorce    0.002250\n",
       "24            education_other    0.001987\n",
       "28            marriage_others    0.000411"
      ]
     },
     "execution_count": 116,
     "metadata": {},
     "output_type": "execute_result"
    }
   ],
   "source": [
    "feature_importances_df.sort_values(by=\"importance\",ascending= False)"
   ]
  },
  {
   "cell_type": "markdown",
   "id": "5281e726",
   "metadata": {},
   "source": [
    "- Aparently the education, marital status and sex of an individual doesn't matter in predicting if the person is going to default next month.\n",
    "- The two most importatnt features are the payment status the month before (in this case September) or pay_0 and the age."
   ]
  },
  {
   "cell_type": "markdown",
   "id": "54ffb634",
   "metadata": {},
   "source": [
    "Drop the features that give less than 5% of the information"
   ]
  },
  {
   "cell_type": "code",
   "execution_count": 118,
   "id": "0a795601",
   "metadata": {},
   "outputs": [
    {
     "data": {
      "text/plain": [
       "Index(['pay_0', 'age', 'bill_amt1', 'limit_bal', 'pay_amt3', 'pay_amt6',\n",
       "       'pay_amt2', 'pay_amt4', 'bill_amt6', 'pay_amt1', 'pay_amt5',\n",
       "       'bill_amt3', 'bill_amt2', 'bill_amt4', 'bill_amt5'],\n",
       "      dtype='object')"
      ]
     },
     "execution_count": 118,
     "metadata": {},
     "output_type": "execute_result"
    }
   ],
   "source": [
    "X_nueva = data.filter(['pay_0', 'age',\n",
    "       'bill_amt1', 'limit_bal', 'pay_amt3',\n",
    "       'pay_amt6', 'pay_amt2', 'pay_amt4', 'bill_amt6','pay_amt1',\n",
    "        'pay_amt5', 'bill_amt3', 'bill_amt2', 'bill_amt4', 'bill_amt5'], axis=1)\n",
    "X_nueva.columns"
   ]
  },
  {
   "cell_type": "code",
   "execution_count": 119,
   "id": "6374b09c",
   "metadata": {},
   "outputs": [
    {
     "name": "stdout",
     "output_type": "stream",
     "text": [
      "\n",
      "X_train, y_train:  ((22500, 15), (22500,))\n",
      "\n",
      "X_test, y_test:  ((7500, 15), (7500,))\n"
     ]
    }
   ],
   "source": [
    "from sklearn.model_selection import train_test_split\n",
    "\n",
    "# train test split\n",
    "X_train, X_test, y_train, y_test =  train_test_split(X_nueva, y, test_size=0.25)\n",
    "print(\"\\nX_train, y_train: \", (X_train.shape, y_train.shape))\n",
    "print(\"\\nX_test, y_test: \", (X_test.shape, y_test.shape))"
   ]
  },
  {
   "cell_type": "code",
   "execution_count": 120,
   "id": "87ac313d",
   "metadata": {},
   "outputs": [],
   "source": [
    "modelRF1 = algo.fit(X_train,y_train)"
   ]
  },
  {
   "cell_type": "code",
   "execution_count": 122,
   "id": "ec7eafe5",
   "metadata": {},
   "outputs": [],
   "source": [
    "predictions = modelRF1.predict(X_test)"
   ]
  },
  {
   "cell_type": "code",
   "execution_count": 123,
   "id": "48e455b8",
   "metadata": {},
   "outputs": [],
   "source": [
    "rmse = sqrt(mean_squared_error(y_test, predictions))"
   ]
  },
  {
   "cell_type": "code",
   "execution_count": 124,
   "id": "20ba0783",
   "metadata": {},
   "outputs": [],
   "source": [
    "predRsquared = r2_score(y_test,predictions)"
   ]
  },
  {
   "cell_type": "code",
   "execution_count": 125,
   "id": "2c6f9235",
   "metadata": {},
   "outputs": [
    {
     "name": "stdout",
     "output_type": "stream",
     "text": [
      "R Squared: 0.179\n",
      "RMSE: 0.375\n"
     ]
    }
   ],
   "source": [
    "#Make Predictions\n",
    "predictions = modelRF1.predict(X_test)\n",
    "predRsquared = r2_score(y_test,predictions)\n",
    "rmse = sqrt(mean_squared_error(y_test, predictions))\n",
    "print('R Squared: %.3f' % predRsquared)\n",
    "print('RMSE: %.3f' % rmse)"
   ]
  },
  {
   "cell_type": "code",
   "execution_count": 126,
   "id": "5eb56ac8",
   "metadata": {},
   "outputs": [],
   "source": [
    "feature_importances_df = pd.DataFrame({'feature': X_nueva.columns.values, \\\n",
    "                                       'importance': modelRF1.feature_importances_})"
   ]
  },
  {
   "cell_type": "code",
   "execution_count": 127,
   "id": "49f2f559",
   "metadata": {},
   "outputs": [
    {
     "data": {
      "text/html": [
       "<div>\n",
       "<style scoped>\n",
       "    .dataframe tbody tr th:only-of-type {\n",
       "        vertical-align: middle;\n",
       "    }\n",
       "\n",
       "    .dataframe tbody tr th {\n",
       "        vertical-align: top;\n",
       "    }\n",
       "\n",
       "    .dataframe thead th {\n",
       "        text-align: right;\n",
       "    }\n",
       "</style>\n",
       "<table border=\"1\" class=\"dataframe\">\n",
       "  <thead>\n",
       "    <tr style=\"text-align: right;\">\n",
       "      <th></th>\n",
       "      <th>feature</th>\n",
       "      <th>importance</th>\n",
       "    </tr>\n",
       "  </thead>\n",
       "  <tbody>\n",
       "    <tr>\n",
       "      <th>0</th>\n",
       "      <td>pay_0</td>\n",
       "      <td>0.184562</td>\n",
       "    </tr>\n",
       "    <tr>\n",
       "      <th>1</th>\n",
       "      <td>age</td>\n",
       "      <td>0.086276</td>\n",
       "    </tr>\n",
       "    <tr>\n",
       "      <th>2</th>\n",
       "      <td>bill_amt1</td>\n",
       "      <td>0.075067</td>\n",
       "    </tr>\n",
       "    <tr>\n",
       "      <th>3</th>\n",
       "      <td>limit_bal</td>\n",
       "      <td>0.068221</td>\n",
       "    </tr>\n",
       "    <tr>\n",
       "      <th>6</th>\n",
       "      <td>pay_amt2</td>\n",
       "      <td>0.059086</td>\n",
       "    </tr>\n",
       "    <tr>\n",
       "      <th>5</th>\n",
       "      <td>pay_amt6</td>\n",
       "      <td>0.056328</td>\n",
       "    </tr>\n",
       "    <tr>\n",
       "      <th>4</th>\n",
       "      <td>pay_amt3</td>\n",
       "      <td>0.056174</td>\n",
       "    </tr>\n",
       "    <tr>\n",
       "      <th>8</th>\n",
       "      <td>bill_amt6</td>\n",
       "      <td>0.055243</td>\n",
       "    </tr>\n",
       "    <tr>\n",
       "      <th>9</th>\n",
       "      <td>pay_amt1</td>\n",
       "      <td>0.055001</td>\n",
       "    </tr>\n",
       "    <tr>\n",
       "      <th>12</th>\n",
       "      <td>bill_amt2</td>\n",
       "      <td>0.053521</td>\n",
       "    </tr>\n",
       "    <tr>\n",
       "      <th>10</th>\n",
       "      <td>pay_amt5</td>\n",
       "      <td>0.051138</td>\n",
       "    </tr>\n",
       "    <tr>\n",
       "      <th>14</th>\n",
       "      <td>bill_amt5</td>\n",
       "      <td>0.050484</td>\n",
       "    </tr>\n",
       "    <tr>\n",
       "      <th>7</th>\n",
       "      <td>pay_amt4</td>\n",
       "      <td>0.050255</td>\n",
       "    </tr>\n",
       "    <tr>\n",
       "      <th>11</th>\n",
       "      <td>bill_amt3</td>\n",
       "      <td>0.049887</td>\n",
       "    </tr>\n",
       "    <tr>\n",
       "      <th>13</th>\n",
       "      <td>bill_amt4</td>\n",
       "      <td>0.048758</td>\n",
       "    </tr>\n",
       "  </tbody>\n",
       "</table>\n",
       "</div>"
      ],
      "text/plain": [
       "      feature  importance\n",
       "0       pay_0    0.184562\n",
       "1         age    0.086276\n",
       "2   bill_amt1    0.075067\n",
       "3   limit_bal    0.068221\n",
       "6    pay_amt2    0.059086\n",
       "5    pay_amt6    0.056328\n",
       "4    pay_amt3    0.056174\n",
       "8   bill_amt6    0.055243\n",
       "9    pay_amt1    0.055001\n",
       "12  bill_amt2    0.053521\n",
       "10   pay_amt5    0.051138\n",
       "14  bill_amt5    0.050484\n",
       "7    pay_amt4    0.050255\n",
       "11  bill_amt3    0.049887\n",
       "13  bill_amt4    0.048758"
      ]
     },
     "execution_count": 127,
     "metadata": {},
     "output_type": "execute_result"
    }
   ],
   "source": [
    "feature_importances_df.sort_values(by=\"importance\",ascending= False)"
   ]
  },
  {
   "cell_type": "markdown",
   "id": "a6e4c69d",
   "metadata": {},
   "source": [
    "This model can explain 18% of the variance in the default of clients. This is really low and is not a good model to implement. Nevertheless, the two most important features in predicting the default are the status of the payment in the month before and the age."
   ]
  },
  {
   "cell_type": "code",
   "execution_count": 194,
   "id": "9a1bc03b",
   "metadata": {},
   "outputs": [],
   "source": [
    "dataCheck = data.filter(['pay_0', 'age', 'default_payment_next_month_default','limit_bal','bill_amt1'], axis=1)"
   ]
  },
  {
   "cell_type": "code",
   "execution_count": 130,
   "id": "aeda06a4",
   "metadata": {},
   "outputs": [],
   "source": [
    "import seaborn as sns"
   ]
  },
  {
   "cell_type": "code",
   "execution_count": 195,
   "id": "7bc393f7",
   "metadata": {},
   "outputs": [
    {
     "data": {
      "image/png": "[encoded data removed]",
      "text/plain": [
       "<Figure size 432x288 with 2 Axes>"
      ]
     },
     "metadata": {
      "needs_background": "light"
     },
     "output_type": "display_data"
    }
   ],
   "source": [
    "# define the mask to set the values in the upper triangle to True\n",
    "mask = np.triu(np.ones_like(dataCheck.corr(), dtype=bool))\n",
    "heatmap = sns.heatmap(dataCheck.corr(), mask=mask, vmin=-1, vmax=1, annot=True, cmap='BrBG')\n",
    "heatmap.set_title('Triangle Correlation Heatmap', fontdict={'fontsize':18}, pad=16);"
   ]
  },
  {
   "cell_type": "markdown",
   "id": "a86a1b00",
   "metadata": {},
   "source": [
    "There is a positive correlation of 0.32 between the status of payment in the month before and the default. That means that there is a higher risk of default if there are more delayed payments in the month before."
   ]
  },
  {
   "cell_type": "markdown",
   "id": "db0add54",
   "metadata": {},
   "source": [
    "What if the dependent variable is the balance limit."
   ]
  },
  {
   "cell_type": "code",
   "execution_count": 136,
   "id": "71e412df",
   "metadata": {},
   "outputs": [
    {
     "name": "stdout",
     "output_type": "stream",
     "text": [
      "Summary of feature sample\n"
     ]
    },
    {
     "data": {
      "text/html": [
       "<div>\n",
       "<style scoped>\n",
       "    .dataframe tbody tr th:only-of-type {\n",
       "        vertical-align: middle;\n",
       "    }\n",
       "\n",
       "    .dataframe tbody tr th {\n",
       "        vertical-align: top;\n",
       "    }\n",
       "\n",
       "    .dataframe thead th {\n",
       "        text-align: right;\n",
       "    }\n",
       "</style>\n",
       "<table border=\"1\" class=\"dataframe\">\n",
       "  <thead>\n",
       "    <tr style=\"text-align: right;\">\n",
       "      <th></th>\n",
       "      <th>age</th>\n",
       "      <th>pay_0</th>\n",
       "      <th>pay_2</th>\n",
       "      <th>pay_3</th>\n",
       "      <th>pay_4</th>\n",
       "      <th>pay_5</th>\n",
       "      <th>pay_6</th>\n",
       "      <th>bill_amt1</th>\n",
       "      <th>bill_amt2</th>\n",
       "      <th>bill_amt3</th>\n",
       "      <th>...</th>\n",
       "      <th>sex_male</th>\n",
       "      <th>education_graduate school</th>\n",
       "      <th>education_high school</th>\n",
       "      <th>education_other</th>\n",
       "      <th>education_university</th>\n",
       "      <th>marriage_divorce</th>\n",
       "      <th>marriage_married</th>\n",
       "      <th>marriage_others</th>\n",
       "      <th>marriage_single</th>\n",
       "      <th>default_payment_next_month_default</th>\n",
       "    </tr>\n",
       "  </thead>\n",
       "  <tbody>\n",
       "    <tr>\n",
       "      <th>0</th>\n",
       "      <td>24</td>\n",
       "      <td>2</td>\n",
       "      <td>2</td>\n",
       "      <td>-1</td>\n",
       "      <td>-1</td>\n",
       "      <td>-2</td>\n",
       "      <td>-2</td>\n",
       "      <td>3913</td>\n",
       "      <td>3102</td>\n",
       "      <td>689</td>\n",
       "      <td>...</td>\n",
       "      <td>0</td>\n",
       "      <td>0</td>\n",
       "      <td>0</td>\n",
       "      <td>0</td>\n",
       "      <td>1</td>\n",
       "      <td>0</td>\n",
       "      <td>1</td>\n",
       "      <td>0</td>\n",
       "      <td>0</td>\n",
       "      <td>1</td>\n",
       "    </tr>\n",
       "    <tr>\n",
       "      <th>1</th>\n",
       "      <td>26</td>\n",
       "      <td>-1</td>\n",
       "      <td>2</td>\n",
       "      <td>0</td>\n",
       "      <td>0</td>\n",
       "      <td>0</td>\n",
       "      <td>2</td>\n",
       "      <td>2682</td>\n",
       "      <td>1725</td>\n",
       "      <td>2682</td>\n",
       "      <td>...</td>\n",
       "      <td>0</td>\n",
       "      <td>0</td>\n",
       "      <td>0</td>\n",
       "      <td>0</td>\n",
       "      <td>1</td>\n",
       "      <td>0</td>\n",
       "      <td>0</td>\n",
       "      <td>0</td>\n",
       "      <td>1</td>\n",
       "      <td>1</td>\n",
       "    </tr>\n",
       "    <tr>\n",
       "      <th>2</th>\n",
       "      <td>34</td>\n",
       "      <td>0</td>\n",
       "      <td>0</td>\n",
       "      <td>0</td>\n",
       "      <td>0</td>\n",
       "      <td>0</td>\n",
       "      <td>0</td>\n",
       "      <td>29239</td>\n",
       "      <td>14027</td>\n",
       "      <td>13559</td>\n",
       "      <td>...</td>\n",
       "      <td>0</td>\n",
       "      <td>0</td>\n",
       "      <td>0</td>\n",
       "      <td>0</td>\n",
       "      <td>1</td>\n",
       "      <td>0</td>\n",
       "      <td>0</td>\n",
       "      <td>0</td>\n",
       "      <td>1</td>\n",
       "      <td>0</td>\n",
       "    </tr>\n",
       "    <tr>\n",
       "      <th>3</th>\n",
       "      <td>37</td>\n",
       "      <td>0</td>\n",
       "      <td>0</td>\n",
       "      <td>0</td>\n",
       "      <td>0</td>\n",
       "      <td>0</td>\n",
       "      <td>0</td>\n",
       "      <td>46990</td>\n",
       "      <td>48233</td>\n",
       "      <td>49291</td>\n",
       "      <td>...</td>\n",
       "      <td>0</td>\n",
       "      <td>0</td>\n",
       "      <td>0</td>\n",
       "      <td>0</td>\n",
       "      <td>1</td>\n",
       "      <td>0</td>\n",
       "      <td>1</td>\n",
       "      <td>0</td>\n",
       "      <td>0</td>\n",
       "      <td>0</td>\n",
       "    </tr>\n",
       "    <tr>\n",
       "      <th>4</th>\n",
       "      <td>57</td>\n",
       "      <td>-1</td>\n",
       "      <td>0</td>\n",
       "      <td>-1</td>\n",
       "      <td>0</td>\n",
       "      <td>0</td>\n",
       "      <td>0</td>\n",
       "      <td>8617</td>\n",
       "      <td>5670</td>\n",
       "      <td>35835</td>\n",
       "      <td>...</td>\n",
       "      <td>1</td>\n",
       "      <td>0</td>\n",
       "      <td>0</td>\n",
       "      <td>0</td>\n",
       "      <td>1</td>\n",
       "      <td>0</td>\n",
       "      <td>1</td>\n",
       "      <td>0</td>\n",
       "      <td>0</td>\n",
       "      <td>0</td>\n",
       "    </tr>\n",
       "  </tbody>\n",
       "</table>\n",
       "<p>5 rows × 30 columns</p>\n",
       "</div>"
      ],
      "text/plain": [
       "   age  pay_0  pay_2  pay_3  pay_4  pay_5  pay_6  bill_amt1  bill_amt2  \\\n",
       "0   24      2      2     -1     -1     -2     -2       3913       3102   \n",
       "1   26     -1      2      0      0      0      2       2682       1725   \n",
       "2   34      0      0      0      0      0      0      29239      14027   \n",
       "3   37      0      0      0      0      0      0      46990      48233   \n",
       "4   57     -1      0     -1      0      0      0       8617       5670   \n",
       "\n",
       "   bill_amt3  ...  sex_male  education_graduate school  education_high school  \\\n",
       "0        689  ...         0                          0                      0   \n",
       "1       2682  ...         0                          0                      0   \n",
       "2      13559  ...         0                          0                      0   \n",
       "3      49291  ...         0                          0                      0   \n",
       "4      35835  ...         1                          0                      0   \n",
       "\n",
       "   education_other  education_university  marriage_divorce  marriage_married  \\\n",
       "0                0                     1                 0                 1   \n",
       "1                0                     1                 0                 0   \n",
       "2                0                     1                 0                 0   \n",
       "3                0                     1                 0                 1   \n",
       "4                0                     1                 0                 1   \n",
       "\n",
       "   marriage_others  marriage_single  default_payment_next_month_default  \n",
       "0                0                0                                   1  \n",
       "1                0                1                                   1  \n",
       "2                0                1                                   0  \n",
       "3                0                0                                   0  \n",
       "4                0                0                                   0  \n",
       "\n",
       "[5 rows x 30 columns]"
      ]
     },
     "execution_count": 136,
     "metadata": {},
     "output_type": "execute_result"
    }
   ],
   "source": [
    "#features\n",
    "X = data.iloc[:, 1:31]\n",
    "print('Summary of feature sample')\n",
    "X.head()"
   ]
  },
  {
   "cell_type": "code",
   "execution_count": 137,
   "id": "91b73905",
   "metadata": {},
   "outputs": [
    {
     "data": {
      "text/plain": [
       "(30000, 30)"
      ]
     },
     "execution_count": 137,
     "metadata": {},
     "output_type": "execute_result"
    }
   ],
   "source": [
    "X.shape"
   ]
  },
  {
   "cell_type": "code",
   "execution_count": 138,
   "id": "be79a20c",
   "metadata": {},
   "outputs": [],
   "source": [
    "#dependent variable\n",
    "y = data['limit_bal']"
   ]
  },
  {
   "cell_type": "code",
   "execution_count": 139,
   "id": "b98c5c12",
   "metadata": {},
   "outputs": [
    {
     "data": {
      "text/plain": [
       "(30000,)"
      ]
     },
     "execution_count": 139,
     "metadata": {},
     "output_type": "execute_result"
    }
   ],
   "source": [
    "y.shape"
   ]
  },
  {
   "cell_type": "markdown",
   "id": "74449568",
   "metadata": {},
   "source": [
    "Lets apply a regresion"
   ]
  },
  {
   "cell_type": "code",
   "execution_count": 140,
   "id": "7ffc621d",
   "metadata": {},
   "outputs": [],
   "source": [
    "model_lim = LinearRegression(fit_intercept = True,n_jobs = 10)"
   ]
  },
  {
   "cell_type": "code",
   "execution_count": 141,
   "id": "365514b6",
   "metadata": {},
   "outputs": [
    {
     "name": "stdout",
     "output_type": "stream",
     "text": [
      "[0.35735205 0.38089239 0.33790642]\n"
     ]
    }
   ],
   "source": [
    "print(cross_val_score(model_lim, X, y, cv=3)) "
   ]
  },
  {
   "cell_type": "markdown",
   "id": "6887c4ae",
   "metadata": {},
   "source": [
    "Regression Algorithm"
   ]
  },
  {
   "cell_type": "code",
   "execution_count": 96,
   "id": "d98db59c",
   "metadata": {},
   "outputs": [],
   "source": [
    "algosClass = []"
   ]
  },
  {
   "cell_type": "code",
   "execution_count": 97,
   "id": "cf1dffc9",
   "metadata": {},
   "outputs": [],
   "source": [
    "algosClass.append(('Random Forest Regressor',RandomForestRegressor()))"
   ]
  },
  {
   "cell_type": "code",
   "execution_count": 98,
   "id": "fcde47a9",
   "metadata": {},
   "outputs": [],
   "source": [
    "algosClass.append(('Linear Regression',LinearRegression()))"
   ]
  },
  {
   "cell_type": "code",
   "execution_count": 99,
   "id": "dcb6fa85",
   "metadata": {},
   "outputs": [],
   "source": [
    "algosClass.append(('Support Vector Regression',SVR()))"
   ]
  },
  {
   "cell_type": "code",
   "execution_count": 100,
   "id": "30bdb703",
   "metadata": {},
   "outputs": [],
   "source": [
    "#regression\n",
    "results = []\n",
    "names = []\n",
    "    "
   ]
  },
  {
   "cell_type": "code",
   "execution_count": 142,
   "id": "38ba130c",
   "metadata": {},
   "outputs": [],
   "source": [
    "for name, model_lim in algosClass:\n",
    "    result = cross_val_score(model_lim, X,y, cv=3, scoring='r2')\n",
    "    names.append(name)\n",
    "    results.append(result)"
   ]
  },
  {
   "cell_type": "code",
   "execution_count": 143,
   "id": "2cc979da",
   "metadata": {},
   "outputs": [
    {
     "name": "stdout",
     "output_type": "stream",
     "text": [
      "Random Forest Regressor 0.18441557031725098\n",
      "Linear Regression 0.12119308107008364\n",
      "Support Vector Regression -0.08509493803027295\n",
      "Random Forest Regressor 0.46763715264483635\n",
      "Linear Regression 0.358716953901899\n",
      "Support Vector Regression -0.05039629841085288\n"
     ]
    }
   ],
   "source": [
    "for i in range(len(names)):\n",
    "    print(names[i],results[i].mean())"
   ]
  },
  {
   "cell_type": "markdown",
   "id": "2ea03a5a",
   "metadata": {},
   "source": [
    "Choose the algorithm: Random Forest"
   ]
  },
  {
   "cell_type": "code",
   "execution_count": 148,
   "id": "fe483205",
   "metadata": {},
   "outputs": [],
   "source": [
    "X_train, X_test, y_train, y_test = train_test_split(X, y, test_size=0.25)"
   ]
  },
  {
   "cell_type": "code",
   "execution_count": 149,
   "id": "f4f5601f",
   "metadata": {},
   "outputs": [
    {
     "name": "stdout",
     "output_type": "stream",
     "text": [
      "(22500, 30) (22500,)\n"
     ]
    }
   ],
   "source": [
    "print(X_train.shape, y_train.shape)"
   ]
  },
  {
   "cell_type": "code",
   "execution_count": 150,
   "id": "435e8e45",
   "metadata": {},
   "outputs": [
    {
     "name": "stdout",
     "output_type": "stream",
     "text": [
      "(7500, 30) (7500,)\n"
     ]
    }
   ],
   "source": [
    "print(X_test.shape, y_test.shape)"
   ]
  },
  {
   "cell_type": "code",
   "execution_count": 106,
   "id": "44dc51a4",
   "metadata": {},
   "outputs": [],
   "source": [
    "algo = RandomForestRegressor()"
   ]
  },
  {
   "cell_type": "code",
   "execution_count": 151,
   "id": "f84dd2fc",
   "metadata": {},
   "outputs": [],
   "source": [
    "modelRF1 = algo.fit(X_train,y_train)"
   ]
  },
  {
   "cell_type": "markdown",
   "id": "75b25d41",
   "metadata": {},
   "source": [
    "Predictions"
   ]
  },
  {
   "cell_type": "code",
   "execution_count": 152,
   "id": "4aa59000",
   "metadata": {},
   "outputs": [],
   "source": [
    "predictions = modelRF1.predict(X_test)"
   ]
  },
  {
   "cell_type": "code",
   "execution_count": 109,
   "id": "d7ecbf9d",
   "metadata": {},
   "outputs": [],
   "source": [
    "from math import sqrt"
   ]
  },
  {
   "cell_type": "code",
   "execution_count": 153,
   "id": "98b59bf3",
   "metadata": {},
   "outputs": [],
   "source": [
    "rmse = sqrt(mean_squared_error(y_test, predictions))"
   ]
  },
  {
   "cell_type": "code",
   "execution_count": 154,
   "id": "ecf0ab76",
   "metadata": {},
   "outputs": [],
   "source": [
    "predRsquared = r2_score(y_test,predictions)"
   ]
  },
  {
   "cell_type": "code",
   "execution_count": 155,
   "id": "84199af0",
   "metadata": {},
   "outputs": [
    {
     "name": "stdout",
     "output_type": "stream",
     "text": [
      "R Squared: 0.460\n",
      "RMSE: 95064.184\n"
     ]
    }
   ],
   "source": [
    "#Make Predictions\n",
    "predictions = modelRF1.predict(X_test)\n",
    "predRsquared = r2_score(y_test,predictions)\n",
    "rmse = sqrt(mean_squared_error(y_test, predictions))\n",
    "print('R Squared: %.3f' % predRsquared)\n",
    "print('RMSE: %.3f' % rmse)"
   ]
  },
  {
   "cell_type": "markdown",
   "id": "b2231f5a",
   "metadata": {},
   "source": [
    "This model is better. It explains 46% of the variance in the limit balance."
   ]
  },
  {
   "cell_type": "code",
   "execution_count": 157,
   "id": "08a7d567",
   "metadata": {},
   "outputs": [
    {
     "data": {
      "text/plain": [
       "array([0.09012524, 0.01614897, 0.06924669, 0.0272914 , 0.00705215,\n",
       "       0.00555087, 0.00685397, 0.09557001, 0.03814113, 0.03817737,\n",
       "       0.03262448, 0.04119181, 0.04094707, 0.05365447, 0.12685726,\n",
       "       0.05726187, 0.04300264, 0.04504689, 0.10827199, 0.00512701,\n",
       "       0.0050727 , 0.022944  , 0.00389715, 0.00095022, 0.00316116,\n",
       "       0.00077783, 0.00426906, 0.00015159, 0.00390945, 0.00672351])"
      ]
     },
     "execution_count": 157,
     "metadata": {},
     "output_type": "execute_result"
    }
   ],
   "source": [
    "modelRF1.feature_importances_"
   ]
  },
  {
   "cell_type": "code",
   "execution_count": 158,
   "id": "a185336a",
   "metadata": {},
   "outputs": [],
   "source": [
    "feature_importances_df = pd.DataFrame({'feature': X.columns.values, \\\n",
    "                                       'importance': modelRF1.feature_importances_})"
   ]
  },
  {
   "cell_type": "code",
   "execution_count": 159,
   "id": "45393751",
   "metadata": {},
   "outputs": [
    {
     "data": {
      "text/html": [
       "<div>\n",
       "<style scoped>\n",
       "    .dataframe tbody tr th:only-of-type {\n",
       "        vertical-align: middle;\n",
       "    }\n",
       "\n",
       "    .dataframe tbody tr th {\n",
       "        vertical-align: top;\n",
       "    }\n",
       "\n",
       "    .dataframe thead th {\n",
       "        text-align: right;\n",
       "    }\n",
       "</style>\n",
       "<table border=\"1\" class=\"dataframe\">\n",
       "  <thead>\n",
       "    <tr style=\"text-align: right;\">\n",
       "      <th></th>\n",
       "      <th>feature</th>\n",
       "      <th>importance</th>\n",
       "    </tr>\n",
       "  </thead>\n",
       "  <tbody>\n",
       "    <tr>\n",
       "      <th>14</th>\n",
       "      <td>pay_amt2</td>\n",
       "      <td>0.126857</td>\n",
       "    </tr>\n",
       "    <tr>\n",
       "      <th>18</th>\n",
       "      <td>pay_amt6</td>\n",
       "      <td>0.108272</td>\n",
       "    </tr>\n",
       "    <tr>\n",
       "      <th>7</th>\n",
       "      <td>bill_amt1</td>\n",
       "      <td>0.095570</td>\n",
       "    </tr>\n",
       "    <tr>\n",
       "      <th>0</th>\n",
       "      <td>age</td>\n",
       "      <td>0.090125</td>\n",
       "    </tr>\n",
       "    <tr>\n",
       "      <th>2</th>\n",
       "      <td>pay_2</td>\n",
       "      <td>0.069247</td>\n",
       "    </tr>\n",
       "    <tr>\n",
       "      <th>15</th>\n",
       "      <td>pay_amt3</td>\n",
       "      <td>0.057262</td>\n",
       "    </tr>\n",
       "    <tr>\n",
       "      <th>13</th>\n",
       "      <td>pay_amt1</td>\n",
       "      <td>0.053654</td>\n",
       "    </tr>\n",
       "    <tr>\n",
       "      <th>17</th>\n",
       "      <td>pay_amt5</td>\n",
       "      <td>0.045047</td>\n",
       "    </tr>\n",
       "    <tr>\n",
       "      <th>16</th>\n",
       "      <td>pay_amt4</td>\n",
       "      <td>0.043003</td>\n",
       "    </tr>\n",
       "    <tr>\n",
       "      <th>11</th>\n",
       "      <td>bill_amt5</td>\n",
       "      <td>0.041192</td>\n",
       "    </tr>\n",
       "    <tr>\n",
       "      <th>12</th>\n",
       "      <td>bill_amt6</td>\n",
       "      <td>0.040947</td>\n",
       "    </tr>\n",
       "    <tr>\n",
       "      <th>9</th>\n",
       "      <td>bill_amt3</td>\n",
       "      <td>0.038177</td>\n",
       "    </tr>\n",
       "    <tr>\n",
       "      <th>8</th>\n",
       "      <td>bill_amt2</td>\n",
       "      <td>0.038141</td>\n",
       "    </tr>\n",
       "    <tr>\n",
       "      <th>10</th>\n",
       "      <td>bill_amt4</td>\n",
       "      <td>0.032624</td>\n",
       "    </tr>\n",
       "    <tr>\n",
       "      <th>3</th>\n",
       "      <td>pay_3</td>\n",
       "      <td>0.027291</td>\n",
       "    </tr>\n",
       "    <tr>\n",
       "      <th>21</th>\n",
       "      <td>education_graduate school</td>\n",
       "      <td>0.022944</td>\n",
       "    </tr>\n",
       "    <tr>\n",
       "      <th>1</th>\n",
       "      <td>pay_0</td>\n",
       "      <td>0.016149</td>\n",
       "    </tr>\n",
       "    <tr>\n",
       "      <th>4</th>\n",
       "      <td>pay_4</td>\n",
       "      <td>0.007052</td>\n",
       "    </tr>\n",
       "    <tr>\n",
       "      <th>6</th>\n",
       "      <td>pay_6</td>\n",
       "      <td>0.006854</td>\n",
       "    </tr>\n",
       "    <tr>\n",
       "      <th>29</th>\n",
       "      <td>default_payment_next_month_default</td>\n",
       "      <td>0.006724</td>\n",
       "    </tr>\n",
       "    <tr>\n",
       "      <th>5</th>\n",
       "      <td>pay_5</td>\n",
       "      <td>0.005551</td>\n",
       "    </tr>\n",
       "    <tr>\n",
       "      <th>19</th>\n",
       "      <td>sex_female</td>\n",
       "      <td>0.005127</td>\n",
       "    </tr>\n",
       "    <tr>\n",
       "      <th>20</th>\n",
       "      <td>sex_male</td>\n",
       "      <td>0.005073</td>\n",
       "    </tr>\n",
       "    <tr>\n",
       "      <th>26</th>\n",
       "      <td>marriage_married</td>\n",
       "      <td>0.004269</td>\n",
       "    </tr>\n",
       "    <tr>\n",
       "      <th>28</th>\n",
       "      <td>marriage_single</td>\n",
       "      <td>0.003909</td>\n",
       "    </tr>\n",
       "    <tr>\n",
       "      <th>22</th>\n",
       "      <td>education_high school</td>\n",
       "      <td>0.003897</td>\n",
       "    </tr>\n",
       "    <tr>\n",
       "      <th>24</th>\n",
       "      <td>education_university</td>\n",
       "      <td>0.003161</td>\n",
       "    </tr>\n",
       "    <tr>\n",
       "      <th>23</th>\n",
       "      <td>education_other</td>\n",
       "      <td>0.000950</td>\n",
       "    </tr>\n",
       "    <tr>\n",
       "      <th>25</th>\n",
       "      <td>marriage_divorce</td>\n",
       "      <td>0.000778</td>\n",
       "    </tr>\n",
       "    <tr>\n",
       "      <th>27</th>\n",
       "      <td>marriage_others</td>\n",
       "      <td>0.000152</td>\n",
       "    </tr>\n",
       "  </tbody>\n",
       "</table>\n",
       "</div>"
      ],
      "text/plain": [
       "                               feature  importance\n",
       "14                            pay_amt2    0.126857\n",
       "18                            pay_amt6    0.108272\n",
       "7                            bill_amt1    0.095570\n",
       "0                                  age    0.090125\n",
       "2                                pay_2    0.069247\n",
       "15                            pay_amt3    0.057262\n",
       "13                            pay_amt1    0.053654\n",
       "17                            pay_amt5    0.045047\n",
       "16                            pay_amt4    0.043003\n",
       "11                           bill_amt5    0.041192\n",
       "12                           bill_amt6    0.040947\n",
       "9                            bill_amt3    0.038177\n",
       "8                            bill_amt2    0.038141\n",
       "10                           bill_amt4    0.032624\n",
       "3                                pay_3    0.027291\n",
       "21           education_graduate school    0.022944\n",
       "1                                pay_0    0.016149\n",
       "4                                pay_4    0.007052\n",
       "6                                pay_6    0.006854\n",
       "29  default_payment_next_month_default    0.006724\n",
       "5                                pay_5    0.005551\n",
       "19                          sex_female    0.005127\n",
       "20                            sex_male    0.005073\n",
       "26                    marriage_married    0.004269\n",
       "28                     marriage_single    0.003909\n",
       "22               education_high school    0.003897\n",
       "24                education_university    0.003161\n",
       "23                     education_other    0.000950\n",
       "25                    marriage_divorce    0.000778\n",
       "27                     marriage_others    0.000152"
      ]
     },
     "execution_count": 159,
     "metadata": {},
     "output_type": "execute_result"
    }
   ],
   "source": [
    "feature_importances_df.sort_values(by=\"importance\",ascending= False)"
   ]
  },
  {
   "cell_type": "code",
   "execution_count": 163,
   "id": "d82dd5aa",
   "metadata": {},
   "outputs": [
    {
     "data": {
      "text/plain": [
       "Index(['limit_bal', 'age', 'pay_0', 'bill_amt1',\n",
       "       'default_payment_next_month_default'],\n",
       "      dtype='object')"
      ]
     },
     "execution_count": 163,
     "metadata": {},
     "output_type": "execute_result"
    }
   ],
   "source": [
    "other = data.filter(['limit_bal','age','pay_0',\n",
    "       'bill_amt1','default_payment_next_month_default'], axis=1)\n",
    "other.columns"
   ]
  },
  {
   "cell_type": "code",
   "execution_count": 164,
   "id": "be02f305",
   "metadata": {},
   "outputs": [
    {
     "data": {
      "text/html": [
       "<div>\n",
       "<style scoped>\n",
       "    .dataframe tbody tr th:only-of-type {\n",
       "        vertical-align: middle;\n",
       "    }\n",
       "\n",
       "    .dataframe tbody tr th {\n",
       "        vertical-align: top;\n",
       "    }\n",
       "\n",
       "    .dataframe thead th {\n",
       "        text-align: right;\n",
       "    }\n",
       "</style>\n",
       "<table border=\"1\" class=\"dataframe\">\n",
       "  <thead>\n",
       "    <tr style=\"text-align: right;\">\n",
       "      <th></th>\n",
       "      <th>limit_bal</th>\n",
       "      <th>age</th>\n",
       "      <th>pay_0</th>\n",
       "      <th>bill_amt1</th>\n",
       "      <th>default_payment_next_month_default</th>\n",
       "    </tr>\n",
       "  </thead>\n",
       "  <tbody>\n",
       "    <tr>\n",
       "      <th>count</th>\n",
       "      <td>30000.000000</td>\n",
       "      <td>30000.000000</td>\n",
       "      <td>30000.000000</td>\n",
       "      <td>30000.000000</td>\n",
       "      <td>30000.000000</td>\n",
       "    </tr>\n",
       "    <tr>\n",
       "      <th>mean</th>\n",
       "      <td>167484.322667</td>\n",
       "      <td>35.485500</td>\n",
       "      <td>-0.016700</td>\n",
       "      <td>51223.330900</td>\n",
       "      <td>0.221200</td>\n",
       "    </tr>\n",
       "    <tr>\n",
       "      <th>std</th>\n",
       "      <td>129747.661567</td>\n",
       "      <td>9.217904</td>\n",
       "      <td>1.123802</td>\n",
       "      <td>73635.860576</td>\n",
       "      <td>0.415062</td>\n",
       "    </tr>\n",
       "    <tr>\n",
       "      <th>min</th>\n",
       "      <td>10000.000000</td>\n",
       "      <td>21.000000</td>\n",
       "      <td>-2.000000</td>\n",
       "      <td>-165580.000000</td>\n",
       "      <td>0.000000</td>\n",
       "    </tr>\n",
       "    <tr>\n",
       "      <th>25%</th>\n",
       "      <td>50000.000000</td>\n",
       "      <td>28.000000</td>\n",
       "      <td>-1.000000</td>\n",
       "      <td>3558.750000</td>\n",
       "      <td>0.000000</td>\n",
       "    </tr>\n",
       "    <tr>\n",
       "      <th>50%</th>\n",
       "      <td>140000.000000</td>\n",
       "      <td>34.000000</td>\n",
       "      <td>0.000000</td>\n",
       "      <td>22381.500000</td>\n",
       "      <td>0.000000</td>\n",
       "    </tr>\n",
       "    <tr>\n",
       "      <th>75%</th>\n",
       "      <td>240000.000000</td>\n",
       "      <td>41.000000</td>\n",
       "      <td>0.000000</td>\n",
       "      <td>67091.000000</td>\n",
       "      <td>0.000000</td>\n",
       "    </tr>\n",
       "    <tr>\n",
       "      <th>max</th>\n",
       "      <td>1000000.000000</td>\n",
       "      <td>79.000000</td>\n",
       "      <td>8.000000</td>\n",
       "      <td>964511.000000</td>\n",
       "      <td>1.000000</td>\n",
       "    </tr>\n",
       "  </tbody>\n",
       "</table>\n",
       "</div>"
      ],
      "text/plain": [
       "            limit_bal           age         pay_0      bill_amt1  \\\n",
       "count    30000.000000  30000.000000  30000.000000   30000.000000   \n",
       "mean    167484.322667     35.485500     -0.016700   51223.330900   \n",
       "std     129747.661567      9.217904      1.123802   73635.860576   \n",
       "min      10000.000000     21.000000     -2.000000 -165580.000000   \n",
       "25%      50000.000000     28.000000     -1.000000    3558.750000   \n",
       "50%     140000.000000     34.000000      0.000000   22381.500000   \n",
       "75%     240000.000000     41.000000      0.000000   67091.000000   \n",
       "max    1000000.000000     79.000000      8.000000  964511.000000   \n",
       "\n",
       "       default_payment_next_month_default  \n",
       "count                        30000.000000  \n",
       "mean                             0.221200  \n",
       "std                              0.415062  \n",
       "min                              0.000000  \n",
       "25%                              0.000000  \n",
       "50%                              0.000000  \n",
       "75%                              0.000000  \n",
       "max                              1.000000  "
      ]
     },
     "execution_count": 164,
     "metadata": {},
     "output_type": "execute_result"
    }
   ],
   "source": [
    "other.describe()"
   ]
  },
  {
   "cell_type": "code",
   "execution_count": 166,
   "id": "ec02f8f4",
   "metadata": {},
   "outputs": [
    {
     "data": {
      "image/png": "[encoded data removed]",
      "text/plain": [
       "<Figure size 432x288 with 1 Axes>"
      ]
     },
     "metadata": {
      "needs_background": "light"
     },
     "output_type": "display_data"
    }
   ],
   "source": [
    "plt.scatter('limit_bal', 'bill_amt1', data = data, c =\"pink\",\n",
    "            linewidths = 2,\n",
    "            marker =\"s\",\n",
    "            edgecolor =\"green\",\n",
    "            s = 50)\n",
    "plt.xlabel(\"Balance limit\")\n",
    "plt.ylabel(\"Amount of bill statement\")\n",
    "plt.show()\n"
   ]
  },
  {
   "cell_type": "code",
   "execution_count": 186,
   "id": "52e5e926",
   "metadata": {},
   "outputs": [],
   "source": [
    "above_mean = other[other['limit_bal'] > 167484]"
   ]
  },
  {
   "cell_type": "code",
   "execution_count": 187,
   "id": "93420d15",
   "metadata": {},
   "outputs": [
    {
     "data": {
      "text/plain": [
       "0    10916\n",
       "1     1990\n",
       "Name: default_payment_next_month_default, dtype: int64"
      ]
     },
     "execution_count": 187,
     "metadata": {},
     "output_type": "execute_result"
    }
   ],
   "source": [
    "above_mean['default_payment_next_month_default'].value_counts()"
   ]
  },
  {
   "cell_type": "markdown",
   "id": "5528821f",
   "metadata": {},
   "source": [
    "15.42% of the customers with limit balance bigger than $167,484 (the mean) defaulted."
   ]
  },
  {
   "cell_type": "code",
   "execution_count": 188,
   "id": "5bfbe571",
   "metadata": {},
   "outputs": [
    {
     "data": {
      "text/plain": [
       "(array([10916.,     0.,     0.,     0.,     0.,     0.,     0.,     0.,\n",
       "            0.,  1990.]),\n",
       " array([0. , 0.1, 0.2, 0.3, 0.4, 0.5, 0.6, 0.7, 0.8, 0.9, 1. ]),\n",
       " <BarContainer object of 10 artists>)"
      ]
     },
     "execution_count": 188,
     "metadata": {},
     "output_type": "execute_result"
    },
    {
     "data": {
      "image/png": "[encoded data removed]",
      "text/plain": [
       "<Figure size 432x288 with 1 Axes>"
      ]
     },
     "metadata": {
      "needs_background": "light"
     },
     "output_type": "display_data"
    }
   ],
   "source": [
    "plt.hist(x = 'default_payment_next_month_default', data = above_mean)"
   ]
  },
  {
   "cell_type": "code",
   "execution_count": 189,
   "id": "87b4addc",
   "metadata": {},
   "outputs": [
    {
     "data": {
      "text/html": [
       "<div>\n",
       "<style scoped>\n",
       "    .dataframe tbody tr th:only-of-type {\n",
       "        vertical-align: middle;\n",
       "    }\n",
       "\n",
       "    .dataframe tbody tr th {\n",
       "        vertical-align: top;\n",
       "    }\n",
       "\n",
       "    .dataframe thead th {\n",
       "        text-align: right;\n",
       "    }\n",
       "</style>\n",
       "<table border=\"1\" class=\"dataframe\">\n",
       "  <thead>\n",
       "    <tr style=\"text-align: right;\">\n",
       "      <th></th>\n",
       "      <th>limit_bal</th>\n",
       "      <th>age</th>\n",
       "      <th>pay_0</th>\n",
       "      <th>bill_amt1</th>\n",
       "      <th>default_payment_next_month_default</th>\n",
       "    </tr>\n",
       "  </thead>\n",
       "  <tbody>\n",
       "    <tr>\n",
       "      <th>count</th>\n",
       "      <td>1990.000000</td>\n",
       "      <td>1990.000000</td>\n",
       "      <td>1990.000000</td>\n",
       "      <td>1990.000000</td>\n",
       "      <td>1990.0</td>\n",
       "    </tr>\n",
       "    <tr>\n",
       "      <th>mean</th>\n",
       "      <td>277621.949749</td>\n",
       "      <td>37.820603</td>\n",
       "      <td>0.181407</td>\n",
       "      <td>79285.086432</td>\n",
       "      <td>1.0</td>\n",
       "    </tr>\n",
       "    <tr>\n",
       "      <th>std</th>\n",
       "      <td>95095.463368</td>\n",
       "      <td>8.805962</td>\n",
       "      <td>1.498032</td>\n",
       "      <td>117176.358624</td>\n",
       "      <td>0.0</td>\n",
       "    </tr>\n",
       "    <tr>\n",
       "      <th>min</th>\n",
       "      <td>170000.000000</td>\n",
       "      <td>22.000000</td>\n",
       "      <td>-2.000000</td>\n",
       "      <td>-6676.000000</td>\n",
       "      <td>1.0</td>\n",
       "    </tr>\n",
       "    <tr>\n",
       "      <th>25%</th>\n",
       "      <td>200000.000000</td>\n",
       "      <td>31.000000</td>\n",
       "      <td>-1.000000</td>\n",
       "      <td>376.250000</td>\n",
       "      <td>1.0</td>\n",
       "    </tr>\n",
       "    <tr>\n",
       "      <th>50%</th>\n",
       "      <td>240000.000000</td>\n",
       "      <td>36.000000</td>\n",
       "      <td>0.000000</td>\n",
       "      <td>6365.500000</td>\n",
       "      <td>1.0</td>\n",
       "    </tr>\n",
       "    <tr>\n",
       "      <th>75%</th>\n",
       "      <td>340000.000000</td>\n",
       "      <td>43.000000</td>\n",
       "      <td>1.000000</td>\n",
       "      <td>152347.250000</td>\n",
       "      <td>1.0</td>\n",
       "    </tr>\n",
       "    <tr>\n",
       "      <th>max</th>\n",
       "      <td>740000.000000</td>\n",
       "      <td>75.000000</td>\n",
       "      <td>8.000000</td>\n",
       "      <td>613860.000000</td>\n",
       "      <td>1.0</td>\n",
       "    </tr>\n",
       "  </tbody>\n",
       "</table>\n",
       "</div>"
      ],
      "text/plain": [
       "           limit_bal          age        pay_0      bill_amt1  \\\n",
       "count    1990.000000  1990.000000  1990.000000    1990.000000   \n",
       "mean   277621.949749    37.820603     0.181407   79285.086432   \n",
       "std     95095.463368     8.805962     1.498032  117176.358624   \n",
       "min    170000.000000    22.000000    -2.000000   -6676.000000   \n",
       "25%    200000.000000    31.000000    -1.000000     376.250000   \n",
       "50%    240000.000000    36.000000     0.000000    6365.500000   \n",
       "75%    340000.000000    43.000000     1.000000  152347.250000   \n",
       "max    740000.000000    75.000000     8.000000  613860.000000   \n",
       "\n",
       "       default_payment_next_month_default  \n",
       "count                              1990.0  \n",
       "mean                                  1.0  \n",
       "std                                   0.0  \n",
       "min                                   1.0  \n",
       "25%                                   1.0  \n",
       "50%                                   1.0  \n",
       "75%                                   1.0  \n",
       "max                                   1.0  "
      ]
     },
     "execution_count": 189,
     "metadata": {},
     "output_type": "execute_result"
    }
   ],
   "source": [
    "above_mean[above_mean['default_payment_next_month_default'] == 1].describe()"
   ]
  },
  {
   "cell_type": "code",
   "execution_count": 190,
   "id": "9c8f2512",
   "metadata": {},
   "outputs": [],
   "source": [
    "below_mean = other[other['limit_bal'] <= 167484]"
   ]
  },
  {
   "cell_type": "code",
   "execution_count": 191,
   "id": "8aa1fab4",
   "metadata": {},
   "outputs": [
    {
     "data": {
      "text/plain": [
       "0    12448\n",
       "1     4646\n",
       "Name: default_payment_next_month_default, dtype: int64"
      ]
     },
     "execution_count": 191,
     "metadata": {},
     "output_type": "execute_result"
    }
   ],
   "source": [
    "below_mean['default_payment_next_month_default'].value_counts()"
   ]
  },
  {
   "cell_type": "markdown",
   "id": "a0e43871",
   "metadata": {},
   "source": [
    "27.18% of customers with limit balance lower than $167,484 (the mean) defaulted."
   ]
  },
  {
   "cell_type": "code",
   "execution_count": 192,
   "id": "2de063d1",
   "metadata": {},
   "outputs": [
    {
     "data": {
      "text/plain": [
       "(array([12448.,     0.,     0.,     0.,     0.,     0.,     0.,     0.,\n",
       "            0.,  4646.]),\n",
       " array([0. , 0.1, 0.2, 0.3, 0.4, 0.5, 0.6, 0.7, 0.8, 0.9, 1. ]),\n",
       " <BarContainer object of 10 artists>)"
      ]
     },
     "execution_count": 192,
     "metadata": {},
     "output_type": "execute_result"
    },
    {
     "data": {
      "image/png": "[encoded data removed]",
      "text/plain": [
       "<Figure size 432x288 with 1 Axes>"
      ]
     },
     "metadata": {
      "needs_background": "light"
     },
     "output_type": "display_data"
    }
   ],
   "source": [
    "plt.hist(x = 'default_payment_next_month_default', data = below_mean)"
   ]
  },
  {
   "cell_type": "code",
   "execution_count": 193,
   "id": "8a41e5c3",
   "metadata": {},
   "outputs": [
    {
     "data": {
      "text/html": [
       "<div>\n",
       "<style scoped>\n",
       "    .dataframe tbody tr th:only-of-type {\n",
       "        vertical-align: middle;\n",
       "    }\n",
       "\n",
       "    .dataframe tbody tr th {\n",
       "        vertical-align: top;\n",
       "    }\n",
       "\n",
       "    .dataframe thead th {\n",
       "        text-align: right;\n",
       "    }\n",
       "</style>\n",
       "<table border=\"1\" class=\"dataframe\">\n",
       "  <thead>\n",
       "    <tr style=\"text-align: right;\">\n",
       "      <th></th>\n",
       "      <th>limit_bal</th>\n",
       "      <th>age</th>\n",
       "      <th>pay_0</th>\n",
       "      <th>bill_amt1</th>\n",
       "      <th>default_payment_next_month_default</th>\n",
       "    </tr>\n",
       "  </thead>\n",
       "  <tbody>\n",
       "    <tr>\n",
       "      <th>count</th>\n",
       "      <td>4646.000000</td>\n",
       "      <td>4646.000000</td>\n",
       "      <td>4646.000000</td>\n",
       "      <td>4646.000000</td>\n",
       "      <td>4646.0</td>\n",
       "    </tr>\n",
       "    <tr>\n",
       "      <th>mean</th>\n",
       "      <td>66926.388291</td>\n",
       "      <td>34.828455</td>\n",
       "      <td>0.876668</td>\n",
       "      <td>35327.051012</td>\n",
       "      <td>1.0</td>\n",
       "    </tr>\n",
       "    <tr>\n",
       "      <th>std</th>\n",
       "      <td>42752.721855</td>\n",
       "      <td>9.916034</td>\n",
       "      <td>1.275616</td>\n",
       "      <td>36291.591810</td>\n",
       "      <td>0.0</td>\n",
       "    </tr>\n",
       "    <tr>\n",
       "      <th>min</th>\n",
       "      <td>10000.000000</td>\n",
       "      <td>21.000000</td>\n",
       "      <td>-2.000000</td>\n",
       "      <td>-2000.000000</td>\n",
       "      <td>1.0</td>\n",
       "    </tr>\n",
       "    <tr>\n",
       "      <th>25%</th>\n",
       "      <td>30000.000000</td>\n",
       "      <td>26.000000</td>\n",
       "      <td>0.000000</td>\n",
       "      <td>7528.000000</td>\n",
       "      <td>1.0</td>\n",
       "    </tr>\n",
       "    <tr>\n",
       "      <th>50%</th>\n",
       "      <td>50000.000000</td>\n",
       "      <td>33.000000</td>\n",
       "      <td>1.000000</td>\n",
       "      <td>23415.000000</td>\n",
       "      <td>1.0</td>\n",
       "    </tr>\n",
       "    <tr>\n",
       "      <th>75%</th>\n",
       "      <td>100000.000000</td>\n",
       "      <td>42.000000</td>\n",
       "      <td>2.000000</td>\n",
       "      <td>50478.500000</td>\n",
       "      <td>1.0</td>\n",
       "    </tr>\n",
       "    <tr>\n",
       "      <th>max</th>\n",
       "      <td>160000.000000</td>\n",
       "      <td>73.000000</td>\n",
       "      <td>8.000000</td>\n",
       "      <td>288585.000000</td>\n",
       "      <td>1.0</td>\n",
       "    </tr>\n",
       "  </tbody>\n",
       "</table>\n",
       "</div>"
      ],
      "text/plain": [
       "           limit_bal          age        pay_0      bill_amt1  \\\n",
       "count    4646.000000  4646.000000  4646.000000    4646.000000   \n",
       "mean    66926.388291    34.828455     0.876668   35327.051012   \n",
       "std     42752.721855     9.916034     1.275616   36291.591810   \n",
       "min     10000.000000    21.000000    -2.000000   -2000.000000   \n",
       "25%     30000.000000    26.000000     0.000000    7528.000000   \n",
       "50%     50000.000000    33.000000     1.000000   23415.000000   \n",
       "75%    100000.000000    42.000000     2.000000   50478.500000   \n",
       "max    160000.000000    73.000000     8.000000  288585.000000   \n",
       "\n",
       "       default_payment_next_month_default  \n",
       "count                              4646.0  \n",
       "mean                                  1.0  \n",
       "std                                   0.0  \n",
       "min                                   1.0  \n",
       "25%                                   1.0  \n",
       "50%                                   1.0  \n",
       "75%                                   1.0  \n",
       "max                                   1.0  "
      ]
     },
     "execution_count": 193,
     "metadata": {},
     "output_type": "execute_result"
    }
   ],
   "source": [
    "below_mean[below_mean['default_payment_next_month_default'] == 1].describe()"
   ]
  },
  {
   "cell_type": "code",
   "execution_count": null,
   "id": "13f447e5",
   "metadata": {},
   "outputs": [],
   "source": []
  }
 ],
 "metadata": {
  "kernelspec": {
   "display_name": "UT",
   "language": "python",
   "name": "local-venv"
  },
  "language_info": {
   "codemirror_mode": {
    "name": "ipython",
    "version": 3
   },
   "file_extension": ".py",
   "mimetype": "text/x-python",
   "name": "python",
   "nbconvert_exporter": "python",
   "pygments_lexer": "ipython3",
   "version": "3.10.0"
  }
 },
 "nbformat": 4,
 "nbformat_minor": 5
}
